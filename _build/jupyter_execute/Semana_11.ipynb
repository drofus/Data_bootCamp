{
 "cells": [
  {
   "cell_type": "markdown",
   "id": "81297c1e-cb69-4e9c-a56f-2d7069751380",
   "metadata": {},
   "source": [
    "# Semana 11: Análisis estadístico de datos\n",
    "\n",
    "## 🔎 Prueba de Hipótesis\n",
    "La prueba de hipótesis es una técnica estadística que nos permite tomar decisiones sobre una población a partir de los datos obtenidos en una muestra. A través de este proceso, contrastamos una afirmación (hipótesis nula) con una alternativa (hipótesis alternativa) usando evidencia estadística.\n",
    "\n",
    "### 📌 ¿Cómo funciona?\n",
    "1. **Formular las hipótesis:**\n",
    "   - Hipótesis nula: No hay efecto o diferencia (por ejemplo, \"el promedio de estatura es 170 cm\").\n",
    "   - Hipótesis alternativa: Existe un efecto o diferencia (por ejemplo, \"el promedio de estatura es distinto de 170 cm\").\n",
    "2. **Elgir un nivel de significacia a**\n",
    "3. **Calcular una prueba estadistica**\n",
    "4. **Obtener un valor P**\n",
    "5. **Tomar una decisión:**\n",
    "   - Si $P < a$ rechazamos la hipótesis nula.\n",
    "   - Si $P \\geq a$ no rechazamos la hipótesis nula."
   ]
  },
  {
   "cell_type": "code",
   "execution_count": 1,
   "id": "5578655d-ae38-4ced-bb12-fae27404567c",
   "metadata": {},
   "outputs": [
    {
     "name": "stdout",
     "output_type": "stream",
     "text": [
      "Estadístico t: 4.20\n",
      "Valor p: 0.0002\n"
     ]
    }
   ],
   "source": [
    "import numpy as np\n",
    "from scipy.stats import ttest_1samp\n",
    "\n",
    "# Simulamos una muestra de estaturas (cm)\n",
    "np.random.seed(0)\n",
    "muestra_estaturas = np.random.normal(loc=172, scale=5, size=30)\n",
    "\n",
    "# Prueba de hipótesis\n",
    "estadistico, p_valor = ttest_1samp(muestra_estaturas, popmean=170)\n",
    "\n",
    "print(f\"Estadístico t: {estadistico:.2f}\")\n",
    "print(f\"Valor p: {p_valor:.4f}\")\n"
   ]
  },
  {
   "cell_type": "markdown",
   "id": "a8577c2b-9032-4780-9041-d58b3a06d6c4",
   "metadata": {},
   "source": [
    "## 🎯 Muestras aleatorias y medias muestrales\n",
    "Obtener una muestra aleatoria de una población y calcular su media es una práctica común en estadística para inferir propiedades poblacionales."
   ]
  },
  {
   "cell_type": "code",
   "execution_count": 2,
   "id": "1dccc236-66ba-4fae-9a67-2a7feba942e1",
   "metadata": {},
   "outputs": [
    {
     "name": "stdout",
     "output_type": "stream",
     "text": [
      "Media muestral: 170.16\n"
     ]
    }
   ],
   "source": [
    "import numpy as np\n",
    "\n",
    "poblacion = np.random.normal(loc=170, scale=10, size=10000)  # Altura promedio = 170 cm\n",
    "muestra = np.random.choice(poblacion, size=100)\n",
    "\n",
    "media_muestral = np.mean(muestra)\n",
    "print(f\"Media muestral: {media_muestral:.2f}\")\n"
   ]
  },
  {
   "cell_type": "markdown",
   "id": "fb9de903-4e6b-4eb5-938a-65a8e5af3ff0",
   "metadata": {},
   "source": [
    "## ⚗️ Formular hipótesis de dos colas\n",
    "Ningún dato obtenido experimentalmente confirmará ninguna hipótesis. Esta es nuestra limitación fundamental. Los datos solo pueden contradecir la hipótesis o, por el contrario, mostrar que los resultados son extremadamente improbables (suponiendo que la hipótesis sea verdadera).\n",
    "\n",
    "Una hipótesis estadística dice algo sobre un parámetro de distribución. Las hipótesis típicas en este curso serán sobre las medias de las poblaciones estadísticas y se verán así:\n",
    "- La media de una población es igual a un valor determinado.\n",
    "- Las medias de dos poblaciones soniguales entre sí.\n",
    "- La media de una población es mayor que (o menor que) un cierto valor.\n",
    "- La media de una población es mayor que (o menor que) la media de otra población estadística.\n",
    "\n",
    "**Ejemplo:**\n",
    "Queremos probar si el promedio de propinas en un restaurante es diferente a $3.\n",
    "\n",
    "- Hipotesis nula: la media poblacional es 3.\n",
    "- Hipotesis alternativa: la media poblacional es diferente de 3."
   ]
  },
  {
   "cell_type": "code",
   "execution_count": 3,
   "id": "20d45e35-b72e-4651-9fce-215340fd772d",
   "metadata": {},
   "outputs": [
    {
     "name": "stdout",
     "output_type": "stream",
     "text": [
      "Estadístico t: -0.02\n",
      "Valor p: 0.9845\n"
     ]
    }
   ],
   "source": [
    "from scipy import stats\n",
    "import seaborn as sns\n",
    "\n",
    "tips = sns.load_dataset(\"tips\")\n",
    "estadistico, p_valor = stats.ttest_1samp(tips['tip'], popmean=3)\n",
    "\n",
    "print(f\"Estadístico t: {estadistico:.2f}\")\n",
    "print(f\"Valor p: {p_valor:.4f}\")"
   ]
  },
  {
   "cell_type": "markdown",
   "id": "cb7a88d4-0286-416d-be8e-0d7a167e90b0",
   "metadata": {},
   "source": [
    "## 🧪 Formular hipótesis de una cola\n",
    "¿Cuáles son las hipótesis típicas que probamos?\n",
    "\n",
    "- La media de una población estadística es igual a un valor determinado.\n",
    "- Las medias de dos poblaciones estadísticas son iguales entre sí.\n",
    "- La media de una población estadística es mayor (o menor) que un valor determinado.\n",
    "- La media de una población estadística es mayor que (o menor que) la media de otra población estadística.\n",
    "\n",
    "**Ejemplo:** ¿La propina promedio es mayor que $2.5?\n",
    "\n",
    "- Hipotesis nula: μ ≤ 2.5\n",
    "- Hipotesis alterntativa: μ > 2.5"
   ]
  },
  {
   "cell_type": "code",
   "execution_count": 4,
   "id": "2f804d6f-6da5-44ef-9664-b76cabe21e50",
   "metadata": {},
   "outputs": [
    {
     "name": "stdout",
     "output_type": "stream",
     "text": [
      "Valor p una cola: 0.0000\n"
     ]
    }
   ],
   "source": [
    "estadistico, p_valor = stats.ttest_1samp(tips['tip'], popmean=2.5)\n",
    "p_valor_una_cola = p_valor / 2\n",
    "\n",
    "print(f\"Valor p una cola: {p_valor_una_cola:.4f}\")"
   ]
  },
  {
   "cell_type": "markdown",
   "id": "11b1631e-2bb5-4e2b-afba-ff3010eb5b72",
   "metadata": {},
   "source": [
    "## 👥 Hipótesis sobre la igualdad de las medias de dos poblaciones\n",
    "A veces necesitas comparar las medias de dos poblaciones estadísticas diferentes.\n",
    "\n",
    "Si quieres saber si el gasto promedio varía para los clientes que vienen de diferentes canales, no es suficiente con simplemente comparar los números para un período determinado. Hasta que realices la prueba correcta no puedes decir que la diferencia entre las medias es aleatoria y tampoco puedes decir que la diferencia es lo suficientemente grande como para afirmar que el gasto entre las dos poblaciones de verdad varía (es decir, que la diferencia es significativa).\n",
    "\n",
    "**Ejemplo:** Comparar la propina promedio entre hombres y mujeres."
   ]
  },
  {
   "cell_type": "code",
   "execution_count": 5,
   "id": "af59402f-6843-41f0-93cd-889a8400c776",
   "metadata": {},
   "outputs": [
    {
     "name": "stdout",
     "output_type": "stream",
     "text": [
      "Valor p: 0.1378\n"
     ]
    }
   ],
   "source": [
    "tips_hombres = tips[tips['sex'] == 'Male']['tip']\n",
    "tips_mujeres = tips[tips['sex'] == 'Female']['tip']\n",
    "\n",
    "estadistico, p_valor = stats.ttest_ind(tips_hombres, tips_mujeres, equal_var=False)\n",
    "\n",
    "print(f\"Valor p: {p_valor:.4f}\")"
   ]
  },
  {
   "cell_type": "markdown",
   "id": "75c622dc-a257-4e86-abbe-e42cc7446261",
   "metadata": {},
   "source": [
    "## 💻📖 Pongamos a prueba nuestro conocimiento\n",
    "En el siguiente [link](https://drive.google.com/drive/folders/1L2LhkXGouM4q856KzG2aNDgBeqkDfE-K?usp=sharing) encontraran la actividad que se realizará."
   ]
  }
 ],
 "metadata": {
  "kernelspec": {
   "display_name": "Python 3 (ipykernel)",
   "language": "python",
   "name": "python3"
  },
  "language_info": {
   "codemirror_mode": {
    "name": "ipython",
    "version": 3
   },
   "file_extension": ".py",
   "mimetype": "text/x-python",
   "name": "python",
   "nbconvert_exporter": "python",
   "pygments_lexer": "ipython3",
   "version": "3.12.7"
  }
 },
 "nbformat": 4,
 "nbformat_minor": 5
}