{
 "cells": [
  {
   "cell_type": "markdown",
   "id": "520331e5-1837-4a79-a730-84d060ad76f0",
   "metadata": {},
   "source": [
    "# Semana 1 : Python Básico"
   ]
  },
  {
   "cell_type": "markdown",
   "id": "2d19cd95-1e8d-47a6-99ce-cc66e01df1e1",
   "metadata": {},
   "source": [
    "### 📌 Python\n",
    "\n",
    "Un **lenguaje de programación** es una notación sistemática mediante la cual se describen los procesos computacionales. Los lenguajes de programación permiten la formulación de algoritmos de manera que una computadora pueda realizar las acciones deseadas. Sin la disponibilidad de lenguajes (de alto nivel) sería simplemente imposible resolver problemas complejos usando computadoras, ya que solo entienden instrucciones binarias.\n",
    "\n",
    "![Python_LOGO](https://www.python.org/static/community_logos/python-logo-master-v3-TM.png)\n",
    "\n",
    "Es uno de los lenguajes de programación más populares debido a que:\n",
    "\n",
    "- Es simple e intuitivo ya que cuenta con una sintaxis fácil de aprender, escribir y leer.\n",
    "- Cuenta con una licencia de código abierto la cual permite que sea totalmente libre de usar, modificar, copiar o reproducir.\n",
    "- Es compatible con varios sistemas operativos cómo Linux, Windows, Mac OS, entre otros.\n",
    "- Es dinámico debido a que el entorno de ejecución de Python permite ejecutar las instrucciones y asignar en tiempo real las variables.\n",
    "- Contiene varías libresías y módulo que hacen ser a Python un lenguaje de programación especializado.\n",
    "- Es popular debido a que es un lenguaje construido y mantenido por la misma comunidad, y son éstos los encargados de crear herramientas nuevas día a día.\n"
   ]
  },
  {
   "cell_type": "markdown",
   "id": "9c392022-52e0-48f1-a2a2-21e8d4aada55",
   "metadata": {},
   "source": [
    "## **1️⃣ Variables en Python**  \n",
    "📌 Una **variable** es un contenedor para almacenar valores dentro de la memoria del computador\n",
    "\n",
    "![Variable_Caja](https://d100mj7v0l85u5.cloudfront.net/s3fs-public/optimizar-gastos-con-sus-cajas-de-carton-corrugado-G-2.jpg)\n",
    "\n",
    "### 🔹 Declaración de Variables \n",
    "\n"
   ]
  },
  {
   "cell_type": "code",
   "execution_count": 1,
   "id": "19a6005e-740f-4088-9460-e05649888ef6",
   "metadata": {},
   "outputs": [],
   "source": [
    "nombre = \"Ana\"\n",
    "Nombre = \"Santiago\"  \n",
    "edad = 25       \n",
    "altura = 1.68  "
   ]
  },
  {
   "cell_type": "code",
   "execution_count": 2,
   "id": "20cfec83-9d4b-46c7-ad3a-5274ac3c8729",
   "metadata": {},
   "outputs": [
    {
     "name": "stdout",
     "output_type": "stream",
     "text": [
      "Hola mundo\n",
      "Ana\n",
      "25\n",
      "Santiago\n"
     ]
    }
   ],
   "source": [
    "print(\"Hola mundo\")\n",
    "\n",
    "print(nombre)\n",
    "print(edad)\n",
    "print(Nombre)"
   ]
  },
  {
   "cell_type": "markdown",
   "id": "4d02e958-4c8b-4f6b-8911-c87c537d3835",
   "metadata": {},
   "source": [
    "## 2️⃣ Operaciones Aritméticas simples en Python\n",
    "📌 Python permite realizar operaciones matemáticas básicas y avanzadas.\n",
    "\n",
    "| Operador              | Descripción | Ejemplo |\n",
    "| :---------------- | :------: | ----: |\n",
    "| ```+```        |   suma   | ```5 + 3 → 8``` |\n",
    "| ```-```        |   Resta   | ```10 - 2 → 8``` |\n",
    "| ```*```        |   Multipliación   | ```4 * 3 → 12``` |\n",
    "| ```/```        |   División   | ```10 / 3 → 3.333``` |\n",
    "| ```**```        |   Potencia   | ```2 ** 3 → 8``` |\n",
    "| ```//```        |   División entera   | ```10 // 3 → 3``` |\n",
    "| ```%```        |   Módulo (residuo)   | ```10 % 3 → 1``` |"
   ]
  },
  {
   "cell_type": "code",
   "execution_count": 3,
   "id": "8a56bedd-9192-4713-adb9-e162d13e3e07",
   "metadata": {},
   "outputs": [],
   "source": [
    "#Variables\n",
    "a = 10\n",
    "b = 3"
   ]
  },
  {
   "cell_type": "markdown",
   "id": "9de11745-a878-4a84-a1b4-546c9e08320c",
   "metadata": {},
   "source": [
    "### 📌 SUMA y RESTA"
   ]
  },
  {
   "cell_type": "code",
   "execution_count": 4,
   "id": "90068e8a-d262-4d87-a1e4-18ea75e13a62",
   "metadata": {},
   "outputs": [
    {
     "name": "stdout",
     "output_type": "stream",
     "text": [
      "puedo sumar numeros y/o variables que contengan números: a+b = 13\n",
      "--------------------------------------------------------------------------\n",
      "puedo restar numeros y/o variables que contengan números: a-b = 7\n"
     ]
    }
   ],
   "source": [
    "print(\"puedo sumar numeros y/o variables que contengan números: a+b =\",a+b)\n",
    "print('--------------------------------------------------------------------------')\n",
    "print(\"puedo restar numeros y/o variables que contengan números: a-b =\",a-b)"
   ]
  },
  {
   "cell_type": "markdown",
   "id": "982d7b18-ea48-4bde-a976-a545e2e91442",
   "metadata": {},
   "source": [
    "### 📌 MULTIPLICACIÓN y DIVISIÓN"
   ]
  },
  {
   "cell_type": "code",
   "execution_count": 5,
   "id": "70d6c09d-6787-406a-b488-0e96eaf9420f",
   "metadata": {},
   "outputs": [
    {
     "name": "stdout",
     "output_type": "stream",
     "text": [
      "puedo multiplicar numeros y/o variables que contengan números: a*b = 30\n",
      "--------------------------------------------------------------------------\n",
      "puedo dividir numeros y/o variables que contengan números: a/b = 3.3333333333333335\n"
     ]
    }
   ],
   "source": [
    "print(\"puedo multiplicar numeros y/o variables que contengan números: a*b =\",a*b)\n",
    "print('--------------------------------------------------------------------------')\n",
    "print(\"puedo dividir numeros y/o variables que contengan números: a/b =\",a/b)"
   ]
  },
  {
   "cell_type": "markdown",
   "id": "41b0421a-4511-4a13-b4ae-75c03a2d17d5",
   "metadata": {
    "jp-MarkdownHeadingCollapsed": true
   },
   "source": [
    "### 💻📖 Pongamos a prueba nuestro conocimiento\n",
    "\n",
    "Para que todo no se quedé con solo teoria, tratemos de resolver los siguientes 3 ejercicios para practicar (usaremos este link: https://www.online-python.com/)\n",
    "\n",
    "1. primero pondremos en practica nuestro print, Tratemos de que la siguiente imagen aparesca en nuestra consola:\n",
    "\n",
    "                        _~_   \n",
    "                       (o o)  \n",
    "                      /  V  \\\\ \n",
    "                     /(  _  )\\\\\n",
    "                       ^^ ^^  \n",
    "\n",
    "2. Calcular cuanto minutos hay en una semana usando tres variables.\n",
    "3. Escribir la siguiente operación: 5-8*4/2 y antes de correr el código, ¿cuanto creen que nos arroje la consola como resultado"
   ]
  },
  {
   "cell_type": "markdown",
   "id": "ac8af642-0610-4654-b3d2-fe6e5651ee3b",
   "metadata": {},
   "source": [
    "### 📌 POTENCIA Y DIVISON ENTERA"
   ]
  },
  {
   "cell_type": "code",
   "execution_count": 6,
   "id": "29b5cb5b-3b2a-4ad4-9f97-313c815732bb",
   "metadata": {},
   "outputs": [
    {
     "name": "stdout",
     "output_type": "stream",
     "text": [
      "puedo Potenciar numeros y/o variables que contengan números: a**b = 1000\n",
      "--------------------------------------------------------------------------\n",
      "puedo hacer una divisón entera a numeros y/o variables que contengan números: a//b = 3\n"
     ]
    }
   ],
   "source": [
    "print(\"puedo Potenciar numeros y/o variables que contengan números: a**b =\",a**b)\n",
    "print('--------------------------------------------------------------------------')\n",
    "print(\"puedo hacer una divisón entera a numeros y/o variables que contengan números: a//b =\",a//b)"
   ]
  },
  {
   "cell_type": "markdown",
   "id": "796e1821-460a-4d2b-a9d2-33297057489d",
   "metadata": {},
   "source": [
    "### 📌 MÓDULO (Residuo)"
   ]
  },
  {
   "cell_type": "code",
   "execution_count": 7,
   "id": "079a95cd-06af-48ae-b312-a3c760fcfa9c",
   "metadata": {},
   "outputs": [
    {
     "name": "stdout",
     "output_type": "stream",
     "text": [
      "puedo sacar el módulo a numeros y/o variables que contengan números: a%b = 1\n"
     ]
    }
   ],
   "source": [
    "print(\"puedo sacar el módulo a numeros y/o variables que contengan números: a%b =\",a%b)"
   ]
  },
  {
   "cell_type": "markdown",
   "id": "b0dc42bb-b0a2-4ee1-a3ce-b47ab134ea33",
   "metadata": {},
   "source": [
    "##  3️⃣ **Tipos de Datos en Python**\n",
    "📌 Python tiene varios tipos de datos incorporados. Algunos de los más comunes son:\n",
    "\n",
    "| Tipo de Dato              | Descripción | Ejemplo |\n",
    "| :---------------- | :------: | ----: |\n",
    "| ```int```        |   Números enteros   | ```1, -5, 0``` |\n",
    "| ```float```        |   Números decimales   | ```100.0, 0.5, -2.5``` |\n",
    "| ```string (str)```        |   Cadenas de texto   | ```\"Hola\", 'Programación'``` |\n",
    "| ```bool```        |   Valores booleanos   | ```True, False``` |"
   ]
  },
  {
   "cell_type": "markdown",
   "id": "ad2efa22-e9bd-416b-a677-7c20cc0c9e1b",
   "metadata": {},
   "source": [
    "### 📌 Concatenación de str"
   ]
  },
  {
   "cell_type": "code",
   "execution_count": 8,
   "id": "d060e163-1e1e-4d8d-89fe-da62739a37d5",
   "metadata": {},
   "outputs": [
    {
     "name": "stdout",
     "output_type": "stream",
     "text": [
      "SantiagoSierra\n"
     ]
    }
   ],
   "source": [
    "nombre = \"Santiago\"\n",
    "Apellido = \"Sierra\"\n",
    "print(nombre+Apellido)"
   ]
  },
  {
   "cell_type": "code",
   "execution_count": 9,
   "id": "4019c6c4-50db-4e24-b3d0-101ea9bedfcc",
   "metadata": {},
   "outputs": [
    {
     "name": "stdout",
     "output_type": "stream",
     "text": [
      "Santiago Sierra\n"
     ]
    }
   ],
   "source": [
    "print(nombre,Apellido)"
   ]
  },
  {
   "cell_type": "code",
   "execution_count": 10,
   "id": "92703f22-3d3c-4453-841f-a2b6fe644b33",
   "metadata": {},
   "outputs": [
    {
     "name": "stdout",
     "output_type": "stream",
     "text": [
      "mi nombre es Santiago y mes estoy acercando a mis 30 años\n"
     ]
    }
   ],
   "source": [
    "a = 10\n",
    "b = 3\n",
    "print(\"mi nombre es\", nombre, \"y mes estoy acercando a mis\", a*b, \"años\")"
   ]
  },
  {
   "cell_type": "markdown",
   "id": "f83d97a2-009e-4b44-bd3a-2b00dffb7a95",
   "metadata": {},
   "source": [
    "### 🔹 operaciones con strings"
   ]
  },
  {
   "cell_type": "code",
   "execution_count": 11,
   "id": "fccca3d4-3ac7-467d-9fb2-7268d1ad87f2",
   "metadata": {},
   "outputs": [
    {
     "ename": "TypeError",
     "evalue": "can only concatenate str (not \"int\") to str",
     "output_type": "error",
     "traceback": [
      "\u001b[0;31m---------------------------------------------------------------------------\u001b[0m",
      "\u001b[0;31mTypeError\u001b[0m                                 Traceback (most recent call last)",
      "Cell \u001b[0;32mIn[11], line 4\u001b[0m\n\u001b[1;32m      1\u001b[0m numero \u001b[38;5;241m=\u001b[39m \u001b[38;5;241m2\u001b[39m\n\u001b[1;32m      2\u001b[0m string \u001b[38;5;241m=\u001b[39m \u001b[38;5;124m\"\u001b[39m\u001b[38;5;124mHola\u001b[39m\u001b[38;5;124m\"\u001b[39m\n\u001b[0;32m----> 4\u001b[0m \u001b[38;5;28mprint\u001b[39m(string\u001b[38;5;241m+\u001b[39mnumero)\n",
      "\u001b[0;31mTypeError\u001b[0m: can only concatenate str (not \"int\") to str"
     ]
    }
   ],
   "source": [
    "numero = 2\n",
    "string = \"Hola\"\n",
    "\n",
    "print(string+numero)"
   ]
  },
  {
   "cell_type": "code",
   "execution_count": 12,
   "id": "f1441668-92b6-4c92-9da4-9c488b4784f0",
   "metadata": {},
   "outputs": [
    {
     "name": "stdout",
     "output_type": "stream",
     "text": [
      "HolaHolaHolaHolaHola\n"
     ]
    }
   ],
   "source": [
    "numero = 5\n",
    "string = \"Hola\"\n",
    "\n",
    "print(string*numero)"
   ]
  },
  {
   "cell_type": "markdown",
   "id": "6f9e59df-974a-497c-a322-4135dd432bbf",
   "metadata": {},
   "source": [
    "### 💻📖 Pongamos a prueba nuestro conocimiento\n",
    "\n",
    "Para que todo no se quedé con solo teoria, tratemos de resolver el siguiente ejercicio para practicar (usaremos este link: https://www.online-python.com/)\n",
    "\n",
    "1. Usando la imagen del primer ejercicio, vamos a dibujar la misma imagen 4 veces seguidas usando las operaciones permitidas por strings.\n",
    "\n",
    "                        _~_   \n",
    "                       (o o)  \n",
    "                      /  V  \\\\ \n",
    "                     /(  _  )\\\\\n",
    "                       ^^ ^^  "
   ]
  },
  {
   "cell_type": "markdown",
   "id": "cf0f160a-8c95-4dfa-92ca-22b51d54ad7e",
   "metadata": {},
   "source": [
    "### 🔹 Conversión de tipo de datos"
   ]
  },
  {
   "cell_type": "code",
   "execution_count": 13,
   "id": "5c179d32-3a87-4765-9f87-94ce5263c5d0",
   "metadata": {},
   "outputs": [
    {
     "name": "stdout",
     "output_type": "stream",
     "text": [
      "la variable a es <class 'str'>\n",
      "la variable b es <class 'int'>\n",
      "la variable c es <class 'float'>\n",
      "la variable d es <class 'bool'>\n"
     ]
    }
   ],
   "source": [
    "a = '2'\n",
    "b = 2\n",
    "c = 2.4\n",
    "d = True\n",
    "\n",
    "\n",
    "print(\"la variable a es\", type(a))\n",
    "print(\"la variable b es\", type(b))\n",
    "print(\"la variable c es\", type(c))\n",
    "print(\"la variable d es\", type(d))"
   ]
  },
  {
   "cell_type": "markdown",
   "id": "2c74fcfc-eb5e-41a0-872d-884ee15864da",
   "metadata": {},
   "source": [
    "### 🔹 strings a número enteros"
   ]
  },
  {
   "cell_type": "code",
   "execution_count": 14,
   "id": "85d002b2-2db4-44e2-8efa-40dd9e1158bf",
   "metadata": {},
   "outputs": [
    {
     "name": "stdout",
     "output_type": "stream",
     "text": [
      "22\n"
     ]
    }
   ],
   "source": [
    "a = '2'\n",
    "b = '2'\n",
    "\n",
    "print(a+b)"
   ]
  },
  {
   "cell_type": "code",
   "execution_count": 15,
   "id": "8ee346fb-8349-48e8-bd7f-d7c5cdc35d80",
   "metadata": {},
   "outputs": [
    {
     "name": "stdout",
     "output_type": "stream",
     "text": [
      "4\n"
     ]
    }
   ],
   "source": [
    "a = '2'\n",
    "b = '2'\n",
    "\n",
    "c = int(a)\n",
    "d = int(b)\n",
    "\n",
    "print(c+d)"
   ]
  },
  {
   "cell_type": "code",
   "execution_count": 16,
   "id": "350983a9-8878-4010-9aa9-137fa593373d",
   "metadata": {},
   "outputs": [
    {
     "ename": "ValueError",
     "evalue": "invalid literal for int() with base 10: 'hola'",
     "output_type": "error",
     "traceback": [
      "\u001b[0;31m---------------------------------------------------------------------------\u001b[0m",
      "\u001b[0;31mValueError\u001b[0m                                Traceback (most recent call last)",
      "Cell \u001b[0;32mIn[16], line 3\u001b[0m\n\u001b[1;32m      1\u001b[0m string \u001b[38;5;241m=\u001b[39m \u001b[38;5;124m\"\u001b[39m\u001b[38;5;124mhola\u001b[39m\u001b[38;5;124m\"\u001b[39m\n\u001b[0;32m----> 3\u001b[0m numero \u001b[38;5;241m=\u001b[39m \u001b[38;5;28mint\u001b[39m(string)\n\u001b[1;32m      5\u001b[0m \u001b[38;5;28mprint\u001b[39m(numero)\n",
      "\u001b[0;31mValueError\u001b[0m: invalid literal for int() with base 10: 'hola'"
     ]
    }
   ],
   "source": [
    "string = \"hola\"\n",
    "\n",
    "numero = int(string)\n",
    "\n",
    "print(numero)"
   ]
  },
  {
   "cell_type": "markdown",
   "id": "d5ee58aa-35bd-49c5-8425-63ea38c2b201",
   "metadata": {},
   "source": [
    "### 🔹 número enteros a strings"
   ]
  },
  {
   "cell_type": "code",
   "execution_count": 17,
   "id": "58a7f234-a141-4bc2-bb28-f9833c8e2541",
   "metadata": {},
   "outputs": [
    {
     "name": "stdout",
     "output_type": "stream",
     "text": [
      "4\n"
     ]
    }
   ],
   "source": [
    "a = 2\n",
    "b = 2\n",
    "\n",
    "print(a+b)"
   ]
  },
  {
   "cell_type": "code",
   "execution_count": 18,
   "id": "e80be3d1-abd7-4c23-8fe3-60d702f42d04",
   "metadata": {},
   "outputs": [
    {
     "name": "stdout",
     "output_type": "stream",
     "text": [
      "22\n"
     ]
    }
   ],
   "source": [
    "a = 2\n",
    "b = 2\n",
    "\n",
    "c = str(a)\n",
    "d = str(b)\n",
    "\n",
    "print(c+d)"
   ]
  },
  {
   "cell_type": "markdown",
   "id": "929b7a27-e2ee-43a8-906e-6204efbe2855",
   "metadata": {},
   "source": [
    "## 4️⃣ Buenas Prácticas con Variables y Operaciones\n",
    "\n",
    "- ✅ Usa nombres de variables descriptivos (edad, altura_cm) en lugar de x, y.\n",
    "- ✅ Mantén la consistencia en los tipos de datos para evitar errores.\n",
    "- ✅ Comenta tu código para mejorar la legibilidad."
   ]
  }
 ],
 "metadata": {
  "kernelspec": {
   "display_name": "Python 3 (ipykernel)",
   "language": "python",
   "name": "python3"
  },
  "language_info": {
   "codemirror_mode": {
    "name": "ipython",
    "version": 3
   },
   "file_extension": ".py",
   "mimetype": "text/x-python",
   "name": "python",
   "nbconvert_exporter": "python",
   "pygments_lexer": "ipython3",
   "version": "3.12.7"
  }
 },
 "nbformat": 4,
 "nbformat_minor": 5
}
