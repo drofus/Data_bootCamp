{
 "cells": [
  {
   "cell_type": "markdown",
   "id": "e5fdc98b-cfe8-4d3e-bfa4-f8998079530b",
   "metadata": {},
   "source": [
    "# Semana 5: Manipulación de datos"
   ]
  },
  {
   "cell_type": "markdown",
   "id": "0806559b-828e-4c47-94ee-33acaef78f57",
   "metadata": {},
   "source": [
    "## 🐼 Pandas\n",
    "\n",
    "Pandas (Python Data Analysis Library) es una de las librerías de Python más populares en ciencia de datos. Proporciona estructuras de datos de alto nivel y funciones que están diseñadas para que el trabajo con datos estructurados o tabulares sea rápido y fácil. En particular, Pandas proporciona funcionalidades que facilitan la indexación, segmentación, el uso de agregaciones y mucho más. Dado que la manipulación y limpieza de datos son habilidades importantes en la ciencia de datos, esta será una herramienta imprescindible."
   ]
  },
  {
   "cell_type": "code",
   "execution_count": 1,
   "id": "574d4a34-dbf9-4191-a17a-f1af4302ecf8",
   "metadata": {},
   "outputs": [],
   "source": [
    "# Llamar la libreria de pandas\n",
    "import pandas as pd"
   ]
  },
  {
   "cell_type": "markdown",
   "id": "407ca2aa-e224-4a59-891f-fca86cf2260a",
   "metadata": {},
   "source": [
    "## 📊 DataFrames en Pandas\n",
    "Un DataFrame es una estructura de datos bidimensional con etiquetas en filas y columnas."
   ]
  },
  {
   "cell_type": "code",
   "execution_count": 2,
   "id": "f0e800e2-6b62-4e70-9c5b-631d08458b94",
   "metadata": {},
   "outputs": [
    {
     "data": {
      "text/html": [
       "<div>\n",
       "<style scoped>\n",
       "    .dataframe tbody tr th:only-of-type {\n",
       "        vertical-align: middle;\n",
       "    }\n",
       "\n",
       "    .dataframe tbody tr th {\n",
       "        vertical-align: top;\n",
       "    }\n",
       "\n",
       "    .dataframe thead th {\n",
       "        text-align: right;\n",
       "    }\n",
       "</style>\n",
       "<table border=\"1\" class=\"dataframe\">\n",
       "  <thead>\n",
       "    <tr style=\"text-align: right;\">\n",
       "      <th></th>\n",
       "      <th>Pais</th>\n",
       "      <th>Capital</th>\n",
       "      <th>Pob</th>\n",
       "    </tr>\n",
       "  </thead>\n",
       "  <tbody>\n",
       "    <tr>\n",
       "      <th>A</th>\n",
       "      <td>Suiza</td>\n",
       "      <td>Berna</td>\n",
       "      <td>8.6</td>\n",
       "    </tr>\n",
       "    <tr>\n",
       "      <th>B</th>\n",
       "      <td>Australia</td>\n",
       "      <td>Canberra</td>\n",
       "      <td>25.7</td>\n",
       "    </tr>\n",
       "    <tr>\n",
       "      <th>C</th>\n",
       "      <td>Canada</td>\n",
       "      <td>Ottawa</td>\n",
       "      <td>38.0</td>\n",
       "    </tr>\n",
       "  </tbody>\n",
       "</table>\n",
       "</div>"
      ],
      "text/plain": [
       "        Pais   Capital   Pob\n",
       "A      Suiza     Berna   8.6\n",
       "B  Australia  Canberra  25.7\n",
       "C     Canada    Ottawa  38.0"
      ]
     },
     "execution_count": 2,
     "metadata": {},
     "output_type": "execute_result"
    }
   ],
   "source": [
    "# Construir un DataFrame a partir de un diccionario\n",
    "\n",
    "#Declarando el diccionario de nombre \"data\"\n",
    "data = {\n",
    "    \"Pais\": [\"Suiza\", \"Australia\", \"Canada\"],\n",
    "    \"Capital\": [\"Berna\", \"Canberra\", \"Ottawa\"],\n",
    "    \"Pob\": [8.6, 25.7, 38]\n",
    "}\n",
    "\n",
    "indices = [\"A\", \"B\",\"C\"]\n",
    "\n",
    "#Creando el DataFrame, al que estoy nombrando como \"tabla\"\n",
    "tabla = pd.DataFrame(data = data, index= indices)\n",
    "tabla"
   ]
  },
  {
   "cell_type": "markdown",
   "id": "7cd469e4-57c7-4d8d-957f-d1220b6fccaf",
   "metadata": {},
   "source": [
    "|               | Tipo en Python | Tipo en Pandas |\n",
    "| :---------------- | :------: | ----: |\n",
    "| String        |   `str`   | ```object``` |\n",
    "| Número enteros        |   `int`   | ```int64``` |\n",
    "| Número flotantes        |   `float`   | ```float64``` |\n",
    "| Booleanos        |   `bool`   | ```bool``` |"
   ]
  },
  {
   "cell_type": "code",
   "execution_count": 6,
   "id": "b7366d32-41b1-40a6-bb81-a2f1ad5c0290",
   "metadata": {},
   "outputs": [
    {
     "name": "stdout",
     "output_type": "stream",
     "text": [
      "Pais        object\n",
      "Capital     object\n",
      "Pob        float64\n",
      "dtype: object\n"
     ]
    }
   ],
   "source": [
    "print(tabla.dtypes)"
   ]
  },
  {
   "cell_type": "markdown",
   "id": "e2794b91-ef16-4ff7-a3bc-66c585851255",
   "metadata": {},
   "source": [
    "Podemos leer y escribir datos en distintos formatos.\n",
    "\n",
    "```python\n",
    "tabla.to_csv('datos_guardados.csv', index=False)\n",
    "```\n"
   ]
  },
  {
   "cell_type": "markdown",
   "id": "46b6351f-5474-4535-aef0-e12a34853237",
   "metadata": {},
   "source": [
    "##  📦 Importación y uso de paquetes\n",
    "Para trabajar con archivos, Pandas ofrece funciones como `read_csv()` y `read_excel()`.\n"
   ]
  },
  {
   "cell_type": "code",
   "execution_count": 10,
   "id": "4eefbfeb-5bee-4987-b95a-35015206690f",
   "metadata": {},
   "outputs": [
    {
     "data": {
      "text/html": [
       "<div>\n",
       "<style scoped>\n",
       "    .dataframe tbody tr th:only-of-type {\n",
       "        vertical-align: middle;\n",
       "    }\n",
       "\n",
       "    .dataframe tbody tr th {\n",
       "        vertical-align: top;\n",
       "    }\n",
       "\n",
       "    .dataframe thead th {\n",
       "        text-align: right;\n",
       "    }\n",
       "</style>\n",
       "<table border=\"1\" class=\"dataframe\">\n",
       "  <thead>\n",
       "    <tr style=\"text-align: right;\">\n",
       "      <th></th>\n",
       "      <th>ID</th>\n",
       "      <th>Producto</th>\n",
       "      <th>Precio</th>\n",
       "      <th>Cantidad</th>\n",
       "    </tr>\n",
       "  </thead>\n",
       "  <tbody>\n",
       "    <tr>\n",
       "      <th>0</th>\n",
       "      <td>789</td>\n",
       "      <td>Laptop</td>\n",
       "      <td>800</td>\n",
       "      <td>10</td>\n",
       "    </tr>\n",
       "    <tr>\n",
       "      <th>1</th>\n",
       "      <td>175</td>\n",
       "      <td>Teléfono</td>\n",
       "      <td>500</td>\n",
       "      <td>25</td>\n",
       "    </tr>\n",
       "    <tr>\n",
       "      <th>2</th>\n",
       "      <td>965</td>\n",
       "      <td>Tablet</td>\n",
       "      <td>300</td>\n",
       "      <td>15</td>\n",
       "    </tr>\n",
       "    <tr>\n",
       "      <th>3</th>\n",
       "      <td>215</td>\n",
       "      <td>Monitor</td>\n",
       "      <td>200</td>\n",
       "      <td>20</td>\n",
       "    </tr>\n",
       "    <tr>\n",
       "      <th>4</th>\n",
       "      <td>369</td>\n",
       "      <td>Teclado</td>\n",
       "      <td>50</td>\n",
       "      <td>50</td>\n",
       "    </tr>\n",
       "  </tbody>\n",
       "</table>\n",
       "</div>"
      ],
      "text/plain": [
       "    ID  Producto  Precio  Cantidad\n",
       "0  789    Laptop     800        10\n",
       "1  175  Teléfono     500        25\n",
       "2  965    Tablet     300        15\n",
       "3  215   Monitor     200        20\n",
       "4  369   Teclado      50        50"
      ]
     },
     "execution_count": 10,
     "metadata": {},
     "output_type": "execute_result"
    }
   ],
   "source": [
    "df = pd.read_csv('Ejemplos/Tabla_1_ejemplo.csv')\n",
    "\n",
    "df"
   ]
  },
  {
   "cell_type": "code",
   "execution_count": 11,
   "id": "65356077-64b7-4258-93b6-5c788b3c376e",
   "metadata": {},
   "outputs": [
    {
     "data": {
      "text/html": [
       "<div>\n",
       "<style scoped>\n",
       "    .dataframe tbody tr th:only-of-type {\n",
       "        vertical-align: middle;\n",
       "    }\n",
       "\n",
       "    .dataframe tbody tr th {\n",
       "        vertical-align: top;\n",
       "    }\n",
       "\n",
       "    .dataframe thead th {\n",
       "        text-align: right;\n",
       "    }\n",
       "</style>\n",
       "<table border=\"1\" class=\"dataframe\">\n",
       "  <thead>\n",
       "    <tr style=\"text-align: right;\">\n",
       "      <th></th>\n",
       "      <th>CATEGORÍA</th>\n",
       "      <th>FECHA</th>\n",
       "      <th>IMPORTE</th>\n",
       "    </tr>\n",
       "  </thead>\n",
       "  <tbody>\n",
       "    <tr>\n",
       "      <th>0</th>\n",
       "      <td>Ocio</td>\n",
       "      <td>2024-01-07 00:00:00</td>\n",
       "      <td>$2.300,00</td>\n",
       "    </tr>\n",
       "    <tr>\n",
       "      <th>1</th>\n",
       "      <td>Supermercado</td>\n",
       "      <td>2024-02-07 00:00:00</td>\n",
       "      <td>$147.670,00</td>\n",
       "    </tr>\n",
       "    <tr>\n",
       "      <th>2</th>\n",
       "      <td>Ocio</td>\n",
       "      <td>2024-02-07 00:00:00</td>\n",
       "      <td>$59.183,00</td>\n",
       "    </tr>\n",
       "    <tr>\n",
       "      <th>3</th>\n",
       "      <td>Supermercado</td>\n",
       "      <td>2024-03-07 00:00:00</td>\n",
       "      <td>$15.000,00</td>\n",
       "    </tr>\n",
       "    <tr>\n",
       "      <th>4</th>\n",
       "      <td>Ocio</td>\n",
       "      <td>2024-06-07 00:00:00</td>\n",
       "      <td>$20.000,00</td>\n",
       "    </tr>\n",
       "    <tr>\n",
       "      <th>5</th>\n",
       "      <td>Ocio</td>\n",
       "      <td>2024-10-07 00:00:00</td>\n",
       "      <td>$3.500,00</td>\n",
       "    </tr>\n",
       "    <tr>\n",
       "      <th>6</th>\n",
       "      <td>Ocio</td>\n",
       "      <td>2024-11-07 00:00:00</td>\n",
       "      <td>$3.450,00</td>\n",
       "    </tr>\n",
       "    <tr>\n",
       "      <th>7</th>\n",
       "      <td>Ocio</td>\n",
       "      <td>2024-12-07 00:00:00</td>\n",
       "      <td>$31.558,00</td>\n",
       "    </tr>\n",
       "    <tr>\n",
       "      <th>8</th>\n",
       "      <td>Ocio</td>\n",
       "      <td>2024-12-07 00:00:00</td>\n",
       "      <td>$11.300,00</td>\n",
       "    </tr>\n",
       "    <tr>\n",
       "      <th>9</th>\n",
       "      <td>Gastos_Fijos</td>\n",
       "      <td>13/07/24</td>\n",
       "      <td>$7.095,00</td>\n",
       "    </tr>\n",
       "    <tr>\n",
       "      <th>10</th>\n",
       "      <td>Salud</td>\n",
       "      <td>13/07/24</td>\n",
       "      <td>$138.200,00</td>\n",
       "    </tr>\n",
       "    <tr>\n",
       "      <th>11</th>\n",
       "      <td>Supermercado</td>\n",
       "      <td>14/07/24</td>\n",
       "      <td>$40.000,00</td>\n",
       "    </tr>\n",
       "    <tr>\n",
       "      <th>12</th>\n",
       "      <td>Ocio</td>\n",
       "      <td>14/07/24</td>\n",
       "      <td>$30.000,00</td>\n",
       "    </tr>\n",
       "    <tr>\n",
       "      <th>13</th>\n",
       "      <td>Ocio</td>\n",
       "      <td>14/07/24</td>\n",
       "      <td>$6.400,00</td>\n",
       "    </tr>\n",
       "    <tr>\n",
       "      <th>14</th>\n",
       "      <td>Gastos_Fijos</td>\n",
       "      <td>14/07/24</td>\n",
       "      <td>$21.500,00</td>\n",
       "    </tr>\n",
       "    <tr>\n",
       "      <th>15</th>\n",
       "      <td>Ocio</td>\n",
       "      <td>15/07/24</td>\n",
       "      <td>$17.200,00</td>\n",
       "    </tr>\n",
       "    <tr>\n",
       "      <th>16</th>\n",
       "      <td>Ocio</td>\n",
       "      <td>15/07/24</td>\n",
       "      <td>$10.000,00</td>\n",
       "    </tr>\n",
       "    <tr>\n",
       "      <th>17</th>\n",
       "      <td>Salud</td>\n",
       "      <td>16/07/24</td>\n",
       "      <td>$87.315,00</td>\n",
       "    </tr>\n",
       "    <tr>\n",
       "      <th>18</th>\n",
       "      <td>Ocio</td>\n",
       "      <td>17/07/24</td>\n",
       "      <td>$9.000,00</td>\n",
       "    </tr>\n",
       "    <tr>\n",
       "      <th>19</th>\n",
       "      <td>Ocio</td>\n",
       "      <td>17/07/24</td>\n",
       "      <td>$4.000,00</td>\n",
       "    </tr>\n",
       "    <tr>\n",
       "      <th>20</th>\n",
       "      <td>Ocio</td>\n",
       "      <td>18/07/24</td>\n",
       "      <td>$22.500,00</td>\n",
       "    </tr>\n",
       "  </tbody>\n",
       "</table>\n",
       "</div>"
      ],
      "text/plain": [
       "       CATEGORÍA                FECHA      IMPORTE\n",
       "0           Ocio  2024-01-07 00:00:00    $2.300,00\n",
       "1   Supermercado  2024-02-07 00:00:00  $147.670,00\n",
       "2           Ocio  2024-02-07 00:00:00   $59.183,00\n",
       "3   Supermercado  2024-03-07 00:00:00   $15.000,00\n",
       "4           Ocio  2024-06-07 00:00:00   $20.000,00\n",
       "5           Ocio  2024-10-07 00:00:00    $3.500,00\n",
       "6           Ocio  2024-11-07 00:00:00    $3.450,00\n",
       "7           Ocio  2024-12-07 00:00:00   $31.558,00\n",
       "8           Ocio  2024-12-07 00:00:00   $11.300,00\n",
       "9   Gastos_Fijos             13/07/24    $7.095,00\n",
       "10         Salud             13/07/24  $138.200,00\n",
       "11  Supermercado             14/07/24   $40.000,00\n",
       "12          Ocio             14/07/24   $30.000,00\n",
       "13          Ocio             14/07/24    $6.400,00\n",
       "14  Gastos_Fijos             14/07/24   $21.500,00\n",
       "15          Ocio             15/07/24   $17.200,00\n",
       "16          Ocio             15/07/24   $10.000,00\n",
       "17         Salud             16/07/24   $87.315,00\n",
       "18          Ocio             17/07/24    $9.000,00\n",
       "19          Ocio             17/07/24    $4.000,00\n",
       "20          Ocio             18/07/24   $22.500,00"
      ]
     },
     "execution_count": 11,
     "metadata": {},
     "output_type": "execute_result"
    }
   ],
   "source": [
    "df2 = pd.read_excel('Ejemplos/Tabla_2_ejemplo.xlsx')\n",
    "\n",
    "df2"
   ]
  },
  {
   "cell_type": "markdown",
   "id": "78b0ee9e-f1be-4949-a652-2cc012c974f8",
   "metadata": {},
   "source": [
    "## 🔍 Indexación de un DataFrame\n",
    "Podemos acceder a los datos usando `loc[]` y `iloc[]`.\n"
   ]
  },
  {
   "cell_type": "code",
   "execution_count": 12,
   "id": "6176daf1-ad91-4f7e-90e6-5616f5d57306",
   "metadata": {},
   "outputs": [
    {
     "name": "stdout",
     "output_type": "stream",
     "text": [
      "Laptop\n",
      "500\n"
     ]
    }
   ],
   "source": [
    "print(df.loc[0, 'Producto'])  # Acceder por etiqueta\n",
    "print(df.iloc[1, 2])  # Acceder por índice"
   ]
  },
  {
   "cell_type": "code",
   "execution_count": 13,
   "id": "d599d29d-fb69-4801-9325-bc045733cf3a",
   "metadata": {},
   "outputs": [
    {
     "name": "stdout",
     "output_type": "stream",
     "text": [
      "0      Laptop\n",
      "1    Teléfono\n",
      "2      Tablet\n",
      "3     Monitor\n",
      "4     Teclado\n",
      "Name: Producto, dtype: object\n"
     ]
    }
   ],
   "source": [
    "print(df['Producto'])"
   ]
  },
  {
   "cell_type": "code",
   "execution_count": 14,
   "id": "07a5da19-119d-43d0-8355-bd348645bf98",
   "metadata": {},
   "outputs": [
    {
     "name": "stdout",
     "output_type": "stream",
     "text": [
      "Tablet\n"
     ]
    }
   ],
   "source": [
    "print(df['Producto'][2])"
   ]
  },
  {
   "cell_type": "markdown",
   "id": "a4a84645-0663-4550-8312-b91dfd21a40d",
   "metadata": {},
   "source": [
    "## 🔢 Contar y sumar datos"
   ]
  },
  {
   "cell_type": "code",
   "execution_count": 15,
   "id": "80355889-5378-495e-bbf5-8c77e3b6841d",
   "metadata": {},
   "outputs": [
    {
     "name": "stdout",
     "output_type": "stream",
     "text": [
      "1850\n",
      "370.0\n"
     ]
    }
   ],
   "source": [
    "print(df['Precio'].sum())  # Suma total de los precios\n",
    "print(df['Precio'].mean())  # Promedio de precios"
   ]
  },
  {
   "cell_type": "markdown",
   "id": "8852443f-c400-4ae1-bb13-dbb3a4133e7b",
   "metadata": {},
   "source": [
    "### 💻📖 Pongamos a prueba nuestro conocimiento\n",
    "\n",
    "Para que todo no se quedé con solo teoria, tratemos de resolver tres ejercicio para practicar (usaremos este link: https://www.online-python.com/)\n",
    "\n",
    "1. Crea un DataFrame con los datos de cinco empleados: nombre, edad, salario y departamento.\n",
    "2. Guarda un DataFrame en un archivo Excel y verifícalo cargándolo de nuevo.\n",
    "3. Calcula la media de los salarios y cuenta cuántos empleados hay en cada departamento."
   ]
  },
  {
   "cell_type": "markdown",
   "id": "99daabcb-23c1-42db-8964-2321b3fc3bba",
   "metadata": {},
   "source": [
    "## 📈 Lectura y visualización de datos\n"
   ]
  },
  {
   "cell_type": "code",
   "execution_count": 56,
   "id": "235b43c8-afa3-4ac9-a5d3-7e55d261aa3f",
   "metadata": {},
   "outputs": [
    {
     "data": {
      "text/html": [
       "<div>\n",
       "<style scoped>\n",
       "    .dataframe tbody tr th:only-of-type {\n",
       "        vertical-align: middle;\n",
       "    }\n",
       "\n",
       "    .dataframe tbody tr th {\n",
       "        vertical-align: top;\n",
       "    }\n",
       "\n",
       "    .dataframe thead th {\n",
       "        text-align: right;\n",
       "    }\n",
       "</style>\n",
       "<table border=\"1\" class=\"dataframe\">\n",
       "  <thead>\n",
       "    <tr style=\"text-align: right;\">\n",
       "      <th></th>\n",
       "      <th>Producto</th>\n",
       "      <th>Inventario</th>\n",
       "      <th>Ventas</th>\n",
       "    </tr>\n",
       "  </thead>\n",
       "  <tbody>\n",
       "    <tr>\n",
       "      <th>Viaje_empresa_1</th>\n",
       "      <td>Carne</td>\n",
       "      <td>4589.0</td>\n",
       "      <td>NaN</td>\n",
       "    </tr>\n",
       "    <tr>\n",
       "      <th>Viaje_empresa_2</th>\n",
       "      <td>Lacteos</td>\n",
       "      <td>854.0</td>\n",
       "      <td>698.0</td>\n",
       "    </tr>\n",
       "    <tr>\n",
       "      <th>Viaje_empresa_3</th>\n",
       "      <td>Verduras</td>\n",
       "      <td>NaN</td>\n",
       "      <td>214.0</td>\n",
       "    </tr>\n",
       "    <tr>\n",
       "      <th>Viaje_empresa_4</th>\n",
       "      <td>Ropa</td>\n",
       "      <td>456.0</td>\n",
       "      <td>NaN</td>\n",
       "    </tr>\n",
       "  </tbody>\n",
       "</table>\n",
       "</div>"
      ],
      "text/plain": [
       "                 Producto  Inventario  Ventas\n",
       "Viaje_empresa_1     Carne      4589.0     NaN\n",
       "Viaje_empresa_2   Lacteos       854.0   698.0\n",
       "Viaje_empresa_3  Verduras         NaN   214.0\n",
       "Viaje_empresa_4      Ropa       456.0     NaN"
      ]
     },
     "execution_count": 56,
     "metadata": {},
     "output_type": "execute_result"
    }
   ],
   "source": [
    "import numpy as np\n",
    "\n",
    "data = {'Producto':['Carne','Lacteos', 'Verduras', 'Ropa'], 'Inventario':[4589, 854,np.nan,456], 'Ventas':[np.nan,698,214,np.nan]}\n",
    "indices = [\"Viaje_empresa_1\",\"Viaje_empresa_2\",\"Viaje_empresa_3\",\"Viaje_empresa_4\"]\n",
    "\n",
    "tabla = pd.DataFrame(data = data, index = indices)\n",
    "tabla"
   ]
  },
  {
   "cell_type": "code",
   "execution_count": 57,
   "id": "99816ba7-a15b-4c07-a5cb-ed43f18d123f",
   "metadata": {},
   "outputs": [
    {
     "name": "stdout",
     "output_type": "stream",
     "text": [
      "912.0\n"
     ]
    }
   ],
   "source": [
    "print(tabla['Ventas'].sum())"
   ]
  },
  {
   "cell_type": "code",
   "execution_count": 58,
   "id": "1de17c19-fdfc-4d0a-b84b-6457ba5ff75b",
   "metadata": {},
   "outputs": [
    {
     "data": {
      "text/plain": [
       "Viaje_empresa_1  Producto         Carne\n",
       "                 Inventario      4589.0\n",
       "Viaje_empresa_2  Producto       Lacteos\n",
       "                 Inventario       854.0\n",
       "                 Ventas           698.0\n",
       "Viaje_empresa_3  Producto      Verduras\n",
       "                 Ventas           214.0\n",
       "Viaje_empresa_4  Producto          Ropa\n",
       "                 Inventario       456.0\n",
       "dtype: object"
      ]
     },
     "execution_count": 58,
     "metadata": {},
     "output_type": "execute_result"
    }
   ],
   "source": [
    "tabla.stack()"
   ]
  },
  {
   "cell_type": "code",
   "execution_count": 59,
   "id": "9de3dba9-250a-42c6-ad9f-4f83613fd98c",
   "metadata": {},
   "outputs": [
    {
     "name": "stdout",
     "output_type": "stream",
     "text": [
      "<class 'pandas.core.frame.DataFrame'>\n",
      "Index: 4 entries, Viaje_empresa_1 to Viaje_empresa_4\n",
      "Data columns (total 3 columns):\n",
      " #   Column      Non-Null Count  Dtype  \n",
      "---  ------      --------------  -----  \n",
      " 0   Producto    4 non-null      object \n",
      " 1   Inventario  3 non-null      float64\n",
      " 2   Ventas      2 non-null      float64\n",
      "dtypes: float64(2), object(1)\n",
      "memory usage: 300.0+ bytes\n",
      "None\n"
     ]
    }
   ],
   "source": [
    "print(tabla.info())  # Información general del DataFrame"
   ]
  },
  {
   "cell_type": "code",
   "execution_count": 60,
   "id": "29584af6-9c8e-4b03-89a6-c7d406ec78ea",
   "metadata": {},
   "outputs": [
    {
     "name": "stdout",
     "output_type": "stream",
     "text": [
      "        Inventario      Ventas\n",
      "count     3.000000    2.000000\n",
      "mean   1966.333333  456.000000\n",
      "std    2279.997003  342.239682\n",
      "min     456.000000  214.000000\n",
      "25%     655.000000  335.000000\n",
      "50%     854.000000  456.000000\n",
      "75%    2721.500000  577.000000\n",
      "max    4589.000000  698.000000\n"
     ]
    }
   ],
   "source": [
    "print(tabla.describe())  # Estadísticas descriptivas"
   ]
  },
  {
   "cell_type": "markdown",
   "id": "df62845b-e499-48c9-8f41-c090257db2a3",
   "metadata": {},
   "source": [
    "### 🛠 Solucionar Problemas con Archivos\n",
    "A veces, los datos en archivos pueden contener problemas como valores faltantes o formatos incorrectos."
   ]
  },
  {
   "cell_type": "code",
   "execution_count": 61,
   "id": "0f859ceb-7551-4b35-96e7-eeadaa8ef4c9",
   "metadata": {},
   "outputs": [],
   "source": [
    "#df = pd.read_csv('archivo.csv', na_values=['?', 'NaN', ''])\n",
    "tabla.fillna(0, inplace=True)  # Reemplaza valores faltantes con 0"
   ]
  },
  {
   "cell_type": "code",
   "execution_count": 62,
   "id": "7014da16-a169-4116-8757-767c7420ec9c",
   "metadata": {},
   "outputs": [
    {
     "data": {
      "text/html": [
       "<div>\n",
       "<style scoped>\n",
       "    .dataframe tbody tr th:only-of-type {\n",
       "        vertical-align: middle;\n",
       "    }\n",
       "\n",
       "    .dataframe tbody tr th {\n",
       "        vertical-align: top;\n",
       "    }\n",
       "\n",
       "    .dataframe thead th {\n",
       "        text-align: right;\n",
       "    }\n",
       "</style>\n",
       "<table border=\"1\" class=\"dataframe\">\n",
       "  <thead>\n",
       "    <tr style=\"text-align: right;\">\n",
       "      <th></th>\n",
       "      <th>Producto</th>\n",
       "      <th>Inventario</th>\n",
       "      <th>Ventas</th>\n",
       "    </tr>\n",
       "  </thead>\n",
       "  <tbody>\n",
       "    <tr>\n",
       "      <th>Viaje_empresa_1</th>\n",
       "      <td>Carne</td>\n",
       "      <td>4589.0</td>\n",
       "      <td>0.0</td>\n",
       "    </tr>\n",
       "    <tr>\n",
       "      <th>Viaje_empresa_2</th>\n",
       "      <td>Lacteos</td>\n",
       "      <td>854.0</td>\n",
       "      <td>698.0</td>\n",
       "    </tr>\n",
       "    <tr>\n",
       "      <th>Viaje_empresa_3</th>\n",
       "      <td>Verduras</td>\n",
       "      <td>0.0</td>\n",
       "      <td>214.0</td>\n",
       "    </tr>\n",
       "    <tr>\n",
       "      <th>Viaje_empresa_4</th>\n",
       "      <td>Ropa</td>\n",
       "      <td>456.0</td>\n",
       "      <td>0.0</td>\n",
       "    </tr>\n",
       "  </tbody>\n",
       "</table>\n",
       "</div>"
      ],
      "text/plain": [
       "                 Producto  Inventario  Ventas\n",
       "Viaje_empresa_1     Carne      4589.0     0.0\n",
       "Viaje_empresa_2   Lacteos       854.0   698.0\n",
       "Viaje_empresa_3  Verduras         0.0   214.0\n",
       "Viaje_empresa_4      Ropa       456.0     0.0"
      ]
     },
     "execution_count": 62,
     "metadata": {},
     "output_type": "execute_result"
    }
   ],
   "source": [
    "tabla"
   ]
  },
  {
   "cell_type": "code",
   "execution_count": 49,
   "id": "2b2c3985-5b4f-483a-8ef8-aa9484068803",
   "metadata": {},
   "outputs": [
    {
     "name": "stdout",
     "output_type": "stream",
     "text": [
      "<class 'pandas.core.frame.DataFrame'>\n",
      "Index: 4 entries, Viaje_empresa_1 to Viaje_empresa_4\n",
      "Data columns (total 3 columns):\n",
      " #   Column      Non-Null Count  Dtype  \n",
      "---  ------      --------------  -----  \n",
      " 0   Producto    4 non-null      object \n",
      " 1   Inventario  4 non-null      float64\n",
      " 2   Ventas      4 non-null      float64\n",
      "dtypes: float64(2), object(1)\n",
      "memory usage: 128.0+ bytes\n",
      "None\n"
     ]
    }
   ],
   "source": [
    "print(tabla.info())  # Información general del DataFrame"
   ]
  },
  {
   "cell_type": "code",
   "execution_count": 50,
   "id": "139aa4bd-d445-4aff-81b8-e21fd135b7c8",
   "metadata": {},
   "outputs": [
    {
     "name": "stdout",
     "output_type": "stream",
     "text": [
      "       Inventario    Ventas\n",
      "count     4.00000    4.0000\n",
      "mean   1474.75000  228.0000\n",
      "std    2105.28088  329.1727\n",
      "min       0.00000    0.0000\n",
      "25%     342.00000    0.0000\n",
      "50%     655.00000  107.0000\n",
      "75%    1787.75000  335.0000\n",
      "max    4589.00000  698.0000\n"
     ]
    }
   ],
   "source": [
    "print(tabla.describe())  # Estadísticas descriptivas"
   ]
  },
  {
   "cell_type": "code",
   "execution_count": 69,
   "id": "e70351a0-e08a-4057-90b2-b915bef01476",
   "metadata": {},
   "outputs": [],
   "source": [
    "tabla.iloc[0, 2] = 587"
   ]
  },
  {
   "cell_type": "code",
   "execution_count": 70,
   "id": "65a6f0b5-ccdb-44b2-a281-2d014414849a",
   "metadata": {},
   "outputs": [
    {
     "data": {
      "text/html": [
       "<div>\n",
       "<style scoped>\n",
       "    .dataframe tbody tr th:only-of-type {\n",
       "        vertical-align: middle;\n",
       "    }\n",
       "\n",
       "    .dataframe tbody tr th {\n",
       "        vertical-align: top;\n",
       "    }\n",
       "\n",
       "    .dataframe thead th {\n",
       "        text-align: right;\n",
       "    }\n",
       "</style>\n",
       "<table border=\"1\" class=\"dataframe\">\n",
       "  <thead>\n",
       "    <tr style=\"text-align: right;\">\n",
       "      <th></th>\n",
       "      <th>Producto</th>\n",
       "      <th>Inventario</th>\n",
       "      <th>Ventas</th>\n",
       "    </tr>\n",
       "  </thead>\n",
       "  <tbody>\n",
       "    <tr>\n",
       "      <th>Viaje_empresa_1</th>\n",
       "      <td>Carne</td>\n",
       "      <td>4589.0</td>\n",
       "      <td>587.0</td>\n",
       "    </tr>\n",
       "    <tr>\n",
       "      <th>Viaje_empresa_2</th>\n",
       "      <td>Lacteos</td>\n",
       "      <td>854.0</td>\n",
       "      <td>698.0</td>\n",
       "    </tr>\n",
       "    <tr>\n",
       "      <th>Viaje_empresa_3</th>\n",
       "      <td>Verduras</td>\n",
       "      <td>0.0</td>\n",
       "      <td>214.0</td>\n",
       "    </tr>\n",
       "    <tr>\n",
       "      <th>Viaje_empresa_4</th>\n",
       "      <td>Ropa</td>\n",
       "      <td>456.0</td>\n",
       "      <td>0.0</td>\n",
       "    </tr>\n",
       "  </tbody>\n",
       "</table>\n",
       "</div>"
      ],
      "text/plain": [
       "                 Producto  Inventario  Ventas\n",
       "Viaje_empresa_1     Carne      4589.0   587.0\n",
       "Viaje_empresa_2   Lacteos       854.0   698.0\n",
       "Viaje_empresa_3  Verduras         0.0   214.0\n",
       "Viaje_empresa_4      Ropa       456.0     0.0"
      ]
     },
     "execution_count": 70,
     "metadata": {},
     "output_type": "execute_result"
    }
   ],
   "source": [
    "tabla"
   ]
  },
  {
   "cell_type": "code",
   "execution_count": null,
   "id": "37a8f0c2-7525-46af-9f9f-a5cfef07aa5a",
   "metadata": {},
   "outputs": [],
   "source": []
  }
 ],
 "metadata": {
  "kernelspec": {
   "display_name": "Python 3 (ipykernel)",
   "language": "python",
   "name": "python3"
  },
  "language_info": {
   "codemirror_mode": {
    "name": "ipython",
    "version": 3
   },
   "file_extension": ".py",
   "mimetype": "text/x-python",
   "name": "python",
   "nbconvert_exporter": "python",
   "pygments_lexer": "ipython3",
   "version": "3.11.5"
  }
 },
 "nbformat": 4,
 "nbformat_minor": 5
}
