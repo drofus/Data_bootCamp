{
 "cells": [
  {
   "cell_type": "markdown",
   "id": "cd336d72-3b8d-4dd7-9ffb-cf8a27a2c8ee",
   "metadata": {},
   "source": [
    "# Semana 21: Pronóstico y Predicción 📊\n",
    "\n",
    "El machine learning (ML) permite a las empresas tomar decisiones basadas en patrones y predicciones. Ejemplos:\n",
    "\n",
    "- Predecir ventas de un producto.\n",
    "\n",
    "- Clasificar clientes según su probabilidad de abandono.\n",
    "\n",
    "- Detectar fraudes en transacciones financieras.\n",
    "\n",
    "## ¿Qué es el Machine Learning? 🤖\n",
    "\n",
    "Es una rama de la inteligencia artificial que enseña a las máquinas a aprender de los datos. En lugar de programar reglas fijas, el sistema aprende patrones y los aplica a datos nuevos.\n",
    "\n",
    "### Aprendizaje supervisado y no supervisado 👩‍🏫\n",
    "- **Supervisado:** se entrena con datos etiquetados (ej: precio de casas con su valor real).\n",
    "- **No supervisado:** busca patrones sin etiquetas (ej: agrupar clientes en segmentos).\n",
    "\n",
    "### Entrenar un modelo en Python (Scikit-learn) 🏋️‍♀️"
   ]
  },
  {
   "cell_type": "code",
   "execution_count": 1,
   "id": "61632c55-d827-4e6b-afba-13820b80bc33",
   "metadata": {},
   "outputs": [
    {
     "name": "stdout",
     "output_type": "stream",
     "text": [
      "Coeficiente: [0.10636492]\n",
      "Intercepto: 5.021216407355027\n"
     ]
    }
   ],
   "source": [
    "import pandas as pd\n",
    "from sklearn.linear_model import LinearRegression\n",
    "from sklearn.model_selection import train_test_split\n",
    "\n",
    "# Datos simulados\n",
    "data = pd.DataFrame({\n",
    "    \"gasto_marketing\": [200, 500, 1000, 1500, 2000],\n",
    "    \"ventas\": [20, 50, 120, 170, 210]\n",
    "})\n",
    "\n",
    "X = data[[\"gasto_marketing\"]]  # Variables independientes\n",
    "y = data[\"ventas\"]             # Variable dependiente\n",
    "\n",
    "# Dividir en entrenamiento y prueba\n",
    "X_train, X_test, y_train, y_test = train_test_split(X, y, test_size=0.2, random_state=42)\n",
    "\n",
    "# Entrenar el modelo\n",
    "modelo = LinearRegression()\n",
    "modelo.fit(X_train, y_train)\n",
    "\n",
    "print(\"Coeficiente:\", modelo.coef_)\n",
    "print(\"Intercepto:\", modelo.intercept_)"
   ]
  },
  {
   "cell_type": "markdown",
   "id": "484cdc02-5081-47c9-bb9f-306067a169e4",
   "metadata": {},
   "source": [
    "## Algoritmos de Machine Learning 👩‍💻\n",
    "Los algoritmos de ML permiten encontrar relaciones en los datos. El más básico y usado en negocios es la regresión lineal.\n",
    "\n",
    "### Regresión lineal y función de error 📏\n",
    "La regresión lineal ajusta una recta a los datos.\n",
    "- **Fórmula:** y = mX + b\n",
    "- **Función de error:** Error cuadrático medio (MSE), mide qué tan lejos está la predicción del valor real.\n",
    "\n",
    "### Preprocesamiento: escalar características 🔩"
   ]
  },
  {
   "cell_type": "code",
   "execution_count": 2,
   "id": "38ec178b-4bbb-43e6-b036-1f4f7fefd8af",
   "metadata": {},
   "outputs": [],
   "source": [
    "from sklearn.preprocessing import StandardScaler\n",
    "\n",
    "scaler = StandardScaler()\n",
    "X_scaled = scaler.fit_transform(X)"
   ]
  },
  {
   "cell_type": "code",
   "execution_count": 3,
   "id": "cbf17380-598d-4224-a9e4-af125bb7d7c5",
   "metadata": {},
   "outputs": [
    {
     "name": "stdout",
     "output_type": "stream",
     "text": [
      "MSE: 49.60600375234518\n"
     ]
    }
   ],
   "source": [
    "from sklearn.metrics import mean_squared_error\n",
    "\n",
    "# Entrenar con datos escalados\n",
    "modelo.fit(X_scaled, y)\n",
    "\n",
    "y_pred = modelo.predict(X_scaled)\n",
    "print(\"MSE:\", mean_squared_error(y, y_pred))"
   ]
  },
  {
   "cell_type": "markdown",
   "id": "1dbf5be5-2197-4614-8b8f-82d0dead1a6b",
   "metadata": {},
   "source": [
    "### Métricas de regresión\n",
    "\n",
    "- MAE (Error Absoluto Medio) → promedio de diferencias absolutas.\n",
    "- MSE (Error Cuadrático Medio) → penaliza más los errores grandes.\n",
    "- R² (Coeficiente de determinación) → qué tan bien explica el modelo la variabilidad."
   ]
  },
  {
   "cell_type": "code",
   "execution_count": 4,
   "id": "be062049-9504-4f0e-b246-fddf5d4d961e",
   "metadata": {},
   "outputs": [
    {
     "name": "stdout",
     "output_type": "stream",
     "text": [
      "MAE: 6.581613508442773\n",
      "R²: 0.9902041856729176\n"
     ]
    }
   ],
   "source": [
    "from sklearn.metrics import mean_absolute_error, r2_score\n",
    "\n",
    "print(\"MAE:\", mean_absolute_error(y, y_pred))\n",
    "print(\"R²:\", r2_score(y, y_pred))"
   ]
  },
  {
   "cell_type": "markdown",
   "id": "b5a96e88-a0e1-4692-acb5-ca2ce6e810ff",
   "metadata": {},
   "source": [
    "## Resolver tareas relacionadas con el Machine Learning 📝\n",
    "Resolver un problema de negocio con ML implica plantear la tarea, explorar los datos, elegir un modelo y evaluarlo.\n",
    "\n",
    "### EDA: Análisis de calidad de las características 📈"
   ]
  },
  {
   "cell_type": "code",
   "execution_count": 5,
   "id": "e1184904-7c0e-4ab5-bc47-dd51c8109db5",
   "metadata": {},
   "outputs": [
    {
     "data": {
      "image/png": "[encoded data removed]",
      "text/plain": [
       "<Figure size 640x480 with 2 Axes>"
      ]
     },
     "metadata": {},
     "output_type": "display_data"
    }
   ],
   "source": [
    "import seaborn as sns\n",
    "import matplotlib.pyplot as plt\n",
    "\n",
    "sns.heatmap(data.corr(), annot=True, cmap=\"coolwarm\")\n",
    "plt.show()"
   ]
  },
  {
   "cell_type": "code",
   "execution_count": null,
   "id": "5fc65ad2-e38a-4ec0-a242-692fd248ed9d",
   "metadata": {},
   "outputs": [],
   "source": []
  }
 ],
 "metadata": {
  "kernelspec": {
   "display_name": "Python 3 (ipykernel)",
   "language": "python",
   "name": "python3"
  },
  "language_info": {
   "codemirror_mode": {
    "name": "ipython",
    "version": 3
   },
   "file_extension": ".py",
   "mimetype": "text/x-python",
   "name": "python",
   "nbconvert_exporter": "python",
   "pygments_lexer": "ipython3",
   "version": "3.12.7"
  }
 },
 "nbformat": 4,
 "nbformat_minor": 5
}
