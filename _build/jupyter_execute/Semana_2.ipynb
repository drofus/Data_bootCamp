{
 "cells": [
  {
   "cell_type": "markdown",
   "id": "8a04c068-678c-473d-9499-331f4651aabd",
   "metadata": {},
   "source": [
    "# Semana 2 : Python Básico"
   ]
  },
  {
   "cell_type": "markdown",
   "id": "576bb051-d6bf-4d66-9bdf-1c23de6bfe85",
   "metadata": {},
   "source": [
    "## 📝  Strings en Python\n",
    "Los strings podemos definirlos como caracteres encerradas entre comillas ya sean como las simples (`'`), dobles (`\"`), o triples (`'''` o `\"\"\"`).\n",
    "\n",
    "- Son **inmutables** (no se pueden modificar directamente).\n",
    "- Se pueden **recorrer con bucles**.\n",
    "- Permiten **concatenación y repetición**."
   ]
  },
  {
   "cell_type": "code",
   "execution_count": 1,
   "id": "ffb01ff8-cba4-4003-a5a0-e33d2270bcc3",
   "metadata": {},
   "outputs": [
    {
     "name": "stdout",
     "output_type": "stream",
     "text": [
      "Hola, Python\n",
      "12\n"
     ]
    }
   ],
   "source": [
    "mensaje = \"Hola, Python\"\n",
    "print(mensaje)\n",
    "print(len(mensaje))"
   ]
  },
  {
   "cell_type": "markdown",
   "id": "091635f4-6b16-4217-8ca1-bab6441cd4e3",
   "metadata": {},
   "source": [
    "### 🔢 Índices en Strings\n",
    "Cada carácter en un string tiene un índice, comenzando desde `0`."
   ]
  },
  {
   "cell_type": "code",
   "execution_count": 2,
   "id": "a0d964e4-659f-42ec-8747-39d9438cc561",
   "metadata": {},
   "outputs": [
    {
     "name": "stdout",
     "output_type": "stream",
     "text": [
      "S\n",
      "a\n",
      "n\n",
      "t\n",
      "i\n"
     ]
    }
   ],
   "source": [
    "texto = 'Santiago'\n",
    "\n",
    "print(texto[0]) #Representa el caracter número 0 del string\n",
    "print(texto[1]) #Representa el caracter número 1 del string\n",
    "print(texto[2]) #Representa el caracter número 2 del string\n",
    "print(texto[3]) #Representa el caracter número 3 del string\n",
    "print(texto[4]) #Representa el caracter número 4 del string"
   ]
  },
  {
   "cell_type": "markdown",
   "id": "df4bdf51-42d4-4d21-9df8-cdcb27ace7b4",
   "metadata": {},
   "source": [
    "### 🛠 Métodos de Strings\n",
    "Los metodos en python son comandos predeterminados que cumplen tareas especificas, los strings tiene metodos tales como:"
   ]
  },
  {
   "cell_type": "code",
   "execution_count": 3,
   "id": "cfc622f6-49b8-4e86-bc9c-0cd1e7fb8803",
   "metadata": {},
   "outputs": [
    {
     "name": "stdout",
     "output_type": "stream",
     "text": [
      "SANTIAGO MENSAJE SECRETO: #$!SDFG\n",
      "santiago mensaje secreto: #$!sdfg\n",
      "Santiago Mensaje Secreto: #$!Sdfg\n",
      "Santiago mensaje secreto: Python\n",
      "['Santiago', 'mensaje', 'secreto:', '#$!SDFG']\n"
     ]
    }
   ],
   "source": [
    "texto = \"Santiago mensaje secreto: #$!SDFG\"\n",
    "print(texto.upper())     # Pone todo en mayúsculas\n",
    "print(texto.lower())     # Pone todo en minusculas\n",
    "print(texto.title())     # Despues de cada espacio lo comienza con Mayúsculas\n",
    "print(texto.replace(\"#$!SDFG\", \"Python\"))  # Reemplaza palabras\n",
    "print(texto.split())     # Divide en palabras"
   ]
  },
  {
   "cell_type": "markdown",
   "id": "611e3a89-9115-4359-882f-08f9313d6653",
   "metadata": {},
   "source": [
    "## 📋 2. Listas en Python\n",
    "Las listas son estructuras de datos que permiten almacenar múltiples elementos en un solo objeto.\n",
    "- Son **mutables** (sus elementos pueden modificarse).\n",
    "- Pueden contener **distintos tipos de datos**.\n",
    "- Se pueden **anidar listas dentro de listas**.\n",
    "\n",
    "```python\n",
    "lista_1 = ['Fernando', 25, True]\n",
    "```"
   ]
  },
  {
   "cell_type": "markdown",
   "id": "8e08c465-47a1-4dd6-a2e1-357de29536a5",
   "metadata": {},
   "source": [
    "### 🔢 Índices y Slices en Listas\n",
    "Funcionan de la misma manera que en los strings, pero con datos:"
   ]
  },
  {
   "cell_type": "code",
   "execution_count": 4,
   "id": "ce216d32-fa78-4b06-917d-0da160ccc60e",
   "metadata": {},
   "outputs": [
    {
     "name": "stdout",
     "output_type": "stream",
     "text": [
      "Gabriel\n",
      "Ximena\n",
      "Arcaido\n",
      "Candelabro\n"
     ]
    }
   ],
   "source": [
    "lista_nombres = ['Gabriel', 'Ximena', 'Arcaido', 'Candelabro']\n",
    "\n",
    "print(lista_nombres[0]) #Representa el dato número 0 de la lista\n",
    "print(lista_nombres[1]) #Representa el dato número 1 de la lista\n",
    "print(lista_nombres[2]) #Representa el dato número 2 de la lista\n",
    "print(lista_nombres[3]) #Representa el dato número 3 de la lista"
   ]
  },
  {
   "cell_type": "markdown",
   "id": "5213faac-cb3c-4f5e-8ac3-2c555859d584",
   "metadata": {},
   "source": [
    "Los slices nos permiten extraer subsecciones de los strings y listas."
   ]
  },
  {
   "cell_type": "code",
   "execution_count": 5,
   "id": "563707db-be7f-4b40-abe6-ba2ba3f2637c",
   "metadata": {},
   "outputs": [
    {
     "name": "stdout",
     "output_type": "stream",
     "text": [
      "['esteban', 42]\n",
      "tho\n"
     ]
    }
   ],
   "source": [
    "numero = 42\n",
    "lista = [\"Hector\", \"esteban\", numero]\n",
    "texto = \"Python\"\n",
    "\n",
    "print(lista[1:3]) # Solo me muestra los datos desde el indice 1 hasta el 2\n",
    "print(texto[2:5]) #solo muestra los caracteres desde el indice 2 hasta el 4"
   ]
  },
  {
   "cell_type": "markdown",
   "id": "6e563cea-e5dd-43bf-bab9-71d8d16d408a",
   "metadata": {},
   "source": [
    "### 🖋️ Agregar y quitar datos de las Listas"
   ]
  },
  {
   "cell_type": "markdown",
   "id": "873c5309-3423-4a93-83f0-33b913ad8ed5",
   "metadata": {},
   "source": [
    "### 🔹 Agregar datos de manera directa \n",
    "\n",
    "Podemos agregar un solo dato dentro de la lista usando la función ```.append()```"
   ]
  },
  {
   "cell_type": "code",
   "execution_count": 6,
   "id": "3aa7afba-4e66-49c6-9761-1c1b0a87858b",
   "metadata": {},
   "outputs": [
    {
     "name": "stdout",
     "output_type": "stream",
     "text": [
      "['Pizza']\n"
     ]
    }
   ],
   "source": [
    "# Para una lista vacia\n",
    "lista = []\n",
    "\n",
    "lista.append('Pizza')\n",
    "\n",
    "print(lista)"
   ]
  },
  {
   "cell_type": "code",
   "execution_count": 7,
   "id": "eb65bd4e-d1dd-4f41-94d8-9723ce20de26",
   "metadata": {},
   "outputs": [
    {
     "name": "stdout",
     "output_type": "stream",
     "text": [
      "['Frijoles', 'leche', 'azucar', 'Huevo']\n"
     ]
    }
   ],
   "source": [
    "#Para una lista que tenga ya datos\n",
    "lista = ['Frijoles', 'leche', 'azucar']\n",
    "\n",
    "lista.append('Huevo')\n",
    "\n",
    "print(lista)"
   ]
  },
  {
   "cell_type": "markdown",
   "id": "0eaca160-e399-475f-82f6-5f7975fcbee3",
   "metadata": {},
   "source": [
    "Para agregar más de un dato dentro de la lista, se utiliza ```.extend()```"
   ]
  },
  {
   "cell_type": "code",
   "execution_count": 8,
   "id": "ffc4c571-7a59-400f-b5aa-2438cabc01b8",
   "metadata": {},
   "outputs": [
    {
     "name": "stdout",
     "output_type": "stream",
     "text": [
      "['Jaime', True, False, 'Esteba', 45]\n"
     ]
    }
   ],
   "source": [
    "lista = [\"Jaime\", True]\n",
    "\n",
    "lista.extend([False, \"Esteba\", 45])\n",
    "\n",
    "print(lista)"
   ]
  },
  {
   "cell_type": "markdown",
   "id": "85104c5a-d7eb-49df-88ad-9cbd6a3070d1",
   "metadata": {},
   "source": [
    "Para agregar datos en un lugar especifico de la lista, se usa el metodo ```.insert()```"
   ]
  },
  {
   "cell_type": "code",
   "execution_count": 9,
   "id": "ad96240f-cf86-4311-9f73-ccf132bfbcbb",
   "metadata": {},
   "outputs": [
    {
     "name": "stdout",
     "output_type": "stream",
     "text": [
      "['Celular', 'Teclado', 'Carro', 'silla']\n"
     ]
    }
   ],
   "source": [
    "lista = [\"Celular\", \"Carro\", 'silla']\n",
    "\n",
    "#lisnta.insert(número del indice en donde quiero mi dato, el dato que quiero agregar)\n",
    "\n",
    "lista.insert(1, \"Teclado\")\n",
    "\n",
    "print(lista)"
   ]
  },
  {
   "cell_type": "markdown",
   "id": "a07d199f-c76d-4ba4-aaa0-f2c0164b4a6d",
   "metadata": {},
   "source": [
    "### 🔹 Eliminar y/o reemplazar datos de manera directa \n",
    "\n",
    "Se puede reemplazar los datos de la lista, especificando el indice de la lista y reemplazarlo con el dato deseado."
   ]
  },
  {
   "cell_type": "code",
   "execution_count": 10,
   "id": "635e73e3-920e-4bf7-b003-372adea70c88",
   "metadata": {},
   "outputs": [
    {
     "name": "stdout",
     "output_type": "stream",
     "text": [
      "[300, 45, 38]\n"
     ]
    }
   ],
   "source": [
    "lista = [10,45,38]\n",
    "\n",
    "lista[0] = 300\n",
    "\n",
    "print(lista)"
   ]
  },
  {
   "cell_type": "markdown",
   "id": "7afd7adc-5a7c-4cb7-a3af-68532db7c090",
   "metadata": {},
   "source": [
    "También se puede eliminar un dato especifico de la lista sabiendo el valor que quiero quitar ```.remove()```."
   ]
  },
  {
   "cell_type": "code",
   "execution_count": 11,
   "id": "8e95b182-f509-439a-a86e-a5b8efb75b67",
   "metadata": {},
   "outputs": [
    {
     "name": "stdout",
     "output_type": "stream",
     "text": [
      "['Chandra', 'Kepler', 'Hubble']\n"
     ]
    }
   ],
   "source": [
    "lista = [\"Chandra\", \"Kepler\", \"JWS\", \"Hubble\"]\n",
    "\n",
    "lista.remove(\"JWS\")\n",
    "\n",
    "print(lista)"
   ]
  },
  {
   "cell_type": "markdown",
   "id": "6acdc0c9-41dc-4365-bab1-77395ecde3a5",
   "metadata": {},
   "source": [
    "Es posible no solamente con el valor especifico, también se puede eliminar datos de la lista solo conociendo el indice que deseo eliminar ```.pop()```"
   ]
  },
  {
   "cell_type": "code",
   "execution_count": 12,
   "id": "0fc1a9f6-7f7c-4653-9787-60ba4a848c25",
   "metadata": {},
   "outputs": [
    {
     "name": "stdout",
     "output_type": "stream",
     "text": [
      "[True, 'Arturo', 4.6]\n"
     ]
    }
   ],
   "source": [
    "lista = [True, \"Arturo\", 45, 4.6]\n",
    "lista.pop(2)  # Elimina el dato en el índice 2\n",
    "print(lista) "
   ]
  },
  {
   "cell_type": "markdown",
   "id": "9eb062da-615c-4295-9c84-6b25a16043f9",
   "metadata": {},
   "source": [
    "### 💻📖 Pongamos a prueba nuestro conocimiento\n",
    "\n",
    "Para que todo no se quedé con solo teoria, tratemos de resolver los siguientes 2 ejercicios para practicar (usaremos este link: https://www.online-python.com/)\n",
    "\n",
    "1. Tengo la siguiente lista ```[juan, alberto, URIEL]```, usando los conocimientos sobre los metedos de los strings y manipulación de los datos de la lista, modifiquemos la lista para que quede de la siguiente manera ```[juan, alberto uriel]```\n",
    "2. Hacer que el siguiente texto se encuentre dentro de una lista ```#$%\"# La progrmacIon en Python %& es MuY util``` y el resultado debe ser el siguiente ```[la,programacion,en,python,es,muy,util]```\n"
   ]
  },
  {
   "cell_type": "markdown",
   "id": "e91f123d-a012-4a34-8dda-dc883c54eb76",
   "metadata": {},
   "source": [
    "### ⚠️ Manejo de Errores con `try-except`\n",
    "Cuando escribimos código, pueden ocurrir errores inesperados. El bloque `try-except` nos ayuda a manejarlos sin que nuestro programa se detenga abruptamente."
   ]
  },
  {
   "cell_type": "code",
   "execution_count": 13,
   "id": "695c02d9-7e0a-4f95-bf06-f8a3dbfd65f6",
   "metadata": {},
   "outputs": [
    {
     "name": "stdout",
     "output_type": "stream",
     "text": [
      "El número ingresado es 5 se puede hacer la suma con el número 7 y es igual a 12\n"
     ]
    }
   ],
   "source": [
    "numero = 5\n",
    "try:\n",
    "    print(f\"El número ingresado es {numero} se puede hacer la suma con el número 7 y es igual a\",numero+7)\n",
    "except TypeError:\n",
    "    print(\"Error: Debes ingresar un número válido.\")"
   ]
  },
  {
   "cell_type": "code",
   "execution_count": 14,
   "id": "157c0f56-282a-461e-8eb0-730dbfb9df51",
   "metadata": {},
   "outputs": [
    {
     "name": "stdout",
     "output_type": "stream",
     "text": [
      "Error: Debes ingresar un número válido.\n"
     ]
    }
   ],
   "source": [
    "numero = \"cinco\"\n",
    "try:\n",
    "    print(f\"El número ingresado es {numero} se puede hacer la suma con el número 7 y es igual a\",numero+7)\n",
    "except TypeError:\n",
    "    print(\"Error: Debes ingresar un número válido.\")"
   ]
  },
  {
   "cell_type": "markdown",
   "id": "ae02f0f4-b35f-4be7-8d70-ef2cabb9f8c2",
   "metadata": {},
   "source": [
    "#### 🛑 Acceder a un índice inválido"
   ]
  },
  {
   "cell_type": "code",
   "execution_count": 15,
   "id": "c08a6018-78a0-496b-a037-c71589c2607b",
   "metadata": {},
   "outputs": [
    {
     "name": "stdout",
     "output_type": "stream",
     "text": [
      "Error: Intentaste acceder a un índice fuera del rango de la lista.\n"
     ]
    }
   ],
   "source": [
    "numeros = [1, 2, 3]\n",
    "try:\n",
    "    print(numeros[5])  # Esto generará un error\n",
    "except IndexError:\n",
    "    print(\"Error: Intentaste acceder a un índice fuera del rango de la lista.\")"
   ]
  },
  {
   "cell_type": "markdown",
   "id": "776f48d1-fc04-462e-917e-c20b91397421",
   "metadata": {},
   "source": [
    "### 📚 Ordenar listas\n",
    "\n",
    "Las listas tienen comandos especiales (```.sort()```) para ordenar los mismo datos de las listas siendo datos como:"
   ]
  },
  {
   "cell_type": "code",
   "execution_count": 16,
   "id": "c060de21-201b-42f3-8a20-8cb06b566c26",
   "metadata": {},
   "outputs": [
    {
     "name": "stdout",
     "output_type": "stream",
     "text": [
      "[-1, 0, 2, 3, 3.4, 4, 6, 56, 89]\n",
      "['#$#', 'Alberto', 'Bembela', 'Santiago', 'artuRo']\n"
     ]
    }
   ],
   "source": [
    "#Datos númericos\n",
    "\n",
    "lista_numeros = [3,6,89,2,4,0,-1,56,3.4]\n",
    "\n",
    "#Datos de str\n",
    "\n",
    "Lista_str = [\"Alberto\", \"artuRo\", \"Santiago\", \"Bembela\", \"#$#\"]\n",
    "\n",
    "lista_numeros.sort()\n",
    "Lista_str.sort()\n",
    "\n",
    "print(lista_numeros)\n",
    "print(Lista_str)"
   ]
  },
  {
   "cell_type": "markdown",
   "id": "e93f3b51-1b94-4505-b866-1c06f74b6e85",
   "metadata": {},
   "source": [
    "### 📦 Listas anidadas o Matrices\n",
    "\n",
    "Las listas anidadas son basicamente listas, que contienen listas"
   ]
  },
  {
   "cell_type": "code",
   "execution_count": 17,
   "id": "3135e6e7-eeed-4a77-8662-aa122f69d317",
   "metadata": {},
   "outputs": [
    {
     "name": "stdout",
     "output_type": "stream",
     "text": [
      "['Santiago', ['Cartagena', 'Colombia'], 28]\n"
     ]
    }
   ],
   "source": [
    "lista = [\"Santiago\", [\"Cartagena\", \"Colombia\"], 28]\n",
    "\n",
    "print(lista)"
   ]
  },
  {
   "cell_type": "code",
   "execution_count": 18,
   "id": "ddc7bb97-f4f4-4876-b0b0-b38bdcf4ed67",
   "metadata": {},
   "outputs": [
    {
     "name": "stdout",
     "output_type": "stream",
     "text": [
      "[[1, 5, 6], [5, 6, 1], [6, 7, 8]]\n"
     ]
    }
   ],
   "source": [
    "matriz = [[1,5,6],\n",
    "          [5,6,1],\n",
    "          [6,7,8],]\n",
    "\n",
    "print(matriz)"
   ]
  },
  {
   "cell_type": "code",
   "execution_count": null,
   "id": "75f21a4c-8fc5-4c9f-9007-4df85e31c54c",
   "metadata": {},
   "outputs": [],
   "source": []
  }
 ],
 "metadata": {
  "kernelspec": {
   "display_name": "Python 3 (ipykernel)",
   "language": "python",
   "name": "python3"
  },
  "language_info": {
   "codemirror_mode": {
    "name": "ipython",
    "version": 3
   },
   "file_extension": ".py",
   "mimetype": "text/x-python",
   "name": "python",
   "nbconvert_exporter": "python",
   "pygments_lexer": "ipython3",
   "version": "3.11.5"
  }
 },
 "nbformat": 4,
 "nbformat_minor": 5
}