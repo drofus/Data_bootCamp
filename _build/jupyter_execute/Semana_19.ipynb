{
 "cells": [
  {
   "cell_type": "markdown",
   "id": "b191d9e9-5fd5-44bb-985e-dc6a3f25278e",
   "metadata": {},
   "source": [
    "# Semana 19: Tomar decisiones de negocio basadas en datos 💹\n",
    "\n",
    "## 💼 Las bases de la verificación de hipótesis en negocio \n",
    "Las decisiones basadas en datos ayudan a minimizar riesgos. En este capítulo aprenderás cómo identificar métricas relevantes y formular hipótesis útiles para el negocio.\n",
    "\n",
    "### ❓ ¿Qué necesita un negocio? \n",
    "Un negocio necesita **indicadores** claros que le permitan saber si va por buen camino. Estos indicadores pueden ser ventas, retención, número de clientes, etc."
   ]
  },
  {
   "cell_type": "code",
   "execution_count": 1,
   "id": "0ef70b27-01b0-4fc0-83c1-9f4fbbab0a57",
   "metadata": {},
   "outputs": [
    {
     "data": {
      "text/html": [
       "<div>\n",
       "<style scoped>\n",
       "    .dataframe tbody tr th:only-of-type {\n",
       "        vertical-align: middle;\n",
       "    }\n",
       "\n",
       "    .dataframe tbody tr th {\n",
       "        vertical-align: top;\n",
       "    }\n",
       "\n",
       "    .dataframe thead th {\n",
       "        text-align: right;\n",
       "    }\n",
       "</style>\n",
       "<table border=\"1\" class=\"dataframe\">\n",
       "  <thead>\n",
       "    <tr style=\"text-align: right;\">\n",
       "      <th></th>\n",
       "      <th>dia</th>\n",
       "      <th>usuarios</th>\n",
       "      <th>conversiones</th>\n",
       "      <th>tasa_conversion</th>\n",
       "    </tr>\n",
       "  </thead>\n",
       "  <tbody>\n",
       "    <tr>\n",
       "      <th>0</th>\n",
       "      <td>2024-01-01</td>\n",
       "      <td>100</td>\n",
       "      <td>10</td>\n",
       "      <td>0.100000</td>\n",
       "    </tr>\n",
       "    <tr>\n",
       "      <th>1</th>\n",
       "      <td>2024-01-02</td>\n",
       "      <td>120</td>\n",
       "      <td>15</td>\n",
       "      <td>0.125000</td>\n",
       "    </tr>\n",
       "    <tr>\n",
       "      <th>2</th>\n",
       "      <td>2024-01-03</td>\n",
       "      <td>130</td>\n",
       "      <td>18</td>\n",
       "      <td>0.138462</td>\n",
       "    </tr>\n",
       "    <tr>\n",
       "      <th>3</th>\n",
       "      <td>2024-01-04</td>\n",
       "      <td>90</td>\n",
       "      <td>9</td>\n",
       "      <td>0.100000</td>\n",
       "    </tr>\n",
       "    <tr>\n",
       "      <th>4</th>\n",
       "      <td>2024-01-05</td>\n",
       "      <td>140</td>\n",
       "      <td>20</td>\n",
       "      <td>0.142857</td>\n",
       "    </tr>\n",
       "    <tr>\n",
       "      <th>5</th>\n",
       "      <td>2024-01-06</td>\n",
       "      <td>110</td>\n",
       "      <td>11</td>\n",
       "      <td>0.100000</td>\n",
       "    </tr>\n",
       "    <tr>\n",
       "      <th>6</th>\n",
       "      <td>2024-01-07</td>\n",
       "      <td>115</td>\n",
       "      <td>13</td>\n",
       "      <td>0.113043</td>\n",
       "    </tr>\n",
       "    <tr>\n",
       "      <th>7</th>\n",
       "      <td>2024-01-08</td>\n",
       "      <td>150</td>\n",
       "      <td>25</td>\n",
       "      <td>0.166667</td>\n",
       "    </tr>\n",
       "    <tr>\n",
       "      <th>8</th>\n",
       "      <td>2024-01-09</td>\n",
       "      <td>160</td>\n",
       "      <td>28</td>\n",
       "      <td>0.175000</td>\n",
       "    </tr>\n",
       "    <tr>\n",
       "      <th>9</th>\n",
       "      <td>2024-01-10</td>\n",
       "      <td>170</td>\n",
       "      <td>30</td>\n",
       "      <td>0.176471</td>\n",
       "    </tr>\n",
       "  </tbody>\n",
       "</table>\n",
       "</div>"
      ],
      "text/plain": [
       "         dia  usuarios  conversiones  tasa_conversion\n",
       "0 2024-01-01       100            10         0.100000\n",
       "1 2024-01-02       120            15         0.125000\n",
       "2 2024-01-03       130            18         0.138462\n",
       "3 2024-01-04        90             9         0.100000\n",
       "4 2024-01-05       140            20         0.142857\n",
       "5 2024-01-06       110            11         0.100000\n",
       "6 2024-01-07       115            13         0.113043\n",
       "7 2024-01-08       150            25         0.166667\n",
       "8 2024-01-09       160            28         0.175000\n",
       "9 2024-01-10       170            30         0.176471"
      ]
     },
     "execution_count": 1,
     "metadata": {},
     "output_type": "execute_result"
    }
   ],
   "source": [
    "# Supongamos que tienes un DataFrame con datos de conversión\n",
    "import pandas as pd\n",
    "datos = pd.DataFrame({\n",
    "    \"dia\": pd.date_range(\"2024-01-01\", periods=10, freq=\"D\"),\n",
    "    \"usuarios\": [100, 120, 130, 90, 140, 110, 115, 150, 160, 170],\n",
    "    \"conversiones\": [10, 15, 18, 9, 20, 11, 13, 25, 28, 30]\n",
    "})\n",
    "datos[\"tasa_conversion\"] = datos[\"conversiones\"] / datos[\"usuarios\"]\n",
    "datos"
   ]
  },
  {
   "cell_type": "markdown",
   "id": "0b7c6d3b-c761-4fdc-9aa9-aa3520179d29",
   "metadata": {},
   "source": [
    "### 📈 Métricas leading. Descomposición\n",
    "Las métricas leading son aquellas que predicen resultados futuros (como clics → ventas)."
   ]
  },
  {
   "cell_type": "code",
   "execution_count": 2,
   "id": "114e481c-f4ae-48a9-a7af-5c225588fa2f",
   "metadata": {},
   "outputs": [
    {
     "data": {
      "text/html": [
       "<div>\n",
       "<style scoped>\n",
       "    .dataframe tbody tr th:only-of-type {\n",
       "        vertical-align: middle;\n",
       "    }\n",
       "\n",
       "    .dataframe tbody tr th {\n",
       "        vertical-align: top;\n",
       "    }\n",
       "\n",
       "    .dataframe thead th {\n",
       "        text-align: right;\n",
       "    }\n",
       "</style>\n",
       "<table border=\"1\" class=\"dataframe\">\n",
       "  <thead>\n",
       "    <tr style=\"text-align: right;\">\n",
       "      <th></th>\n",
       "      <th>clics</th>\n",
       "      <th>conversiones</th>\n",
       "      <th>CTR</th>\n",
       "    </tr>\n",
       "  </thead>\n",
       "  <tbody>\n",
       "    <tr>\n",
       "      <th>0</th>\n",
       "      <td>200</td>\n",
       "      <td>10</td>\n",
       "      <td>0.050000</td>\n",
       "    </tr>\n",
       "    <tr>\n",
       "      <th>1</th>\n",
       "      <td>210</td>\n",
       "      <td>15</td>\n",
       "      <td>0.071429</td>\n",
       "    </tr>\n",
       "    <tr>\n",
       "      <th>2</th>\n",
       "      <td>250</td>\n",
       "      <td>18</td>\n",
       "      <td>0.072000</td>\n",
       "    </tr>\n",
       "    <tr>\n",
       "      <th>3</th>\n",
       "      <td>190</td>\n",
       "      <td>9</td>\n",
       "      <td>0.047368</td>\n",
       "    </tr>\n",
       "    <tr>\n",
       "      <th>4</th>\n",
       "      <td>300</td>\n",
       "      <td>20</td>\n",
       "      <td>0.066667</td>\n",
       "    </tr>\n",
       "    <tr>\n",
       "      <th>5</th>\n",
       "      <td>230</td>\n",
       "      <td>11</td>\n",
       "      <td>0.047826</td>\n",
       "    </tr>\n",
       "    <tr>\n",
       "      <th>6</th>\n",
       "      <td>240</td>\n",
       "      <td>13</td>\n",
       "      <td>0.054167</td>\n",
       "    </tr>\n",
       "    <tr>\n",
       "      <th>7</th>\n",
       "      <td>320</td>\n",
       "      <td>25</td>\n",
       "      <td>0.078125</td>\n",
       "    </tr>\n",
       "    <tr>\n",
       "      <th>8</th>\n",
       "      <td>350</td>\n",
       "      <td>28</td>\n",
       "      <td>0.080000</td>\n",
       "    </tr>\n",
       "    <tr>\n",
       "      <th>9</th>\n",
       "      <td>360</td>\n",
       "      <td>30</td>\n",
       "      <td>0.083333</td>\n",
       "    </tr>\n",
       "  </tbody>\n",
       "</table>\n",
       "</div>"
      ],
      "text/plain": [
       "   clics  conversiones       CTR\n",
       "0    200            10  0.050000\n",
       "1    210            15  0.071429\n",
       "2    250            18  0.072000\n",
       "3    190             9  0.047368\n",
       "4    300            20  0.066667\n",
       "5    230            11  0.047826\n",
       "6    240            13  0.054167\n",
       "7    320            25  0.078125\n",
       "8    350            28  0.080000\n",
       "9    360            30  0.083333"
      ]
     },
     "execution_count": 2,
     "metadata": {},
     "output_type": "execute_result"
    }
   ],
   "source": [
    "# Analicemos si los clics predicen conversiones\n",
    "datos[\"clics\"] = [200, 210, 250, 190, 300, 230, 240, 320, 350, 360]\n",
    "datos[\"CTR\"] = datos[\"conversiones\"] / datos[\"clics\"]\n",
    "datos[[\"clics\", \"conversiones\", \"CTR\"]]"
   ]
  },
  {
   "cell_type": "markdown",
   "id": "0fa8b45b-9987-4d29-b0ef-dcdc55c79e1e",
   "metadata": {},
   "source": [
    "### 📊 Identificación de métricas importantes\n",
    "Evalúa si una métrica tiene correlación con el resultado deseado."
   ]
  },
  {
   "cell_type": "code",
   "execution_count": 3,
   "id": "cd53c9ba-2aff-479a-905f-79d977039c41",
   "metadata": {},
   "outputs": [
    {
     "name": "stdout",
     "output_type": "stream",
     "text": [
      "Correlación entre clics y conversiones:\n",
      "                  clics  conversiones\n",
      "clics         1.000000      0.967855\n",
      "conversiones  0.967855      1.000000\n"
     ]
    }
   ],
   "source": [
    "corr = datos[[\"clics\", \"conversiones\"]].corr()\n",
    "print(\"Correlación entre clics y conversiones:\\n\", corr)"
   ]
  },
  {
   "cell_type": "markdown",
   "id": "de4ba409-6170-433b-86cc-a4635530bfd5",
   "metadata": {},
   "source": [
    "### 📋 Registros de experimentos\n",
    "Llevar registro ayuda a analizar resultados de pruebas A/B."
   ]
  },
  {
   "cell_type": "code",
   "execution_count": 4,
   "id": "02d6cc17-c6bd-40b5-8fc9-c3d2e17bebb0",
   "metadata": {},
   "outputs": [
    {
     "data": {
      "text/html": [
       "<div>\n",
       "<style scoped>\n",
       "    .dataframe tbody tr th:only-of-type {\n",
       "        vertical-align: middle;\n",
       "    }\n",
       "\n",
       "    .dataframe tbody tr th {\n",
       "        vertical-align: top;\n",
       "    }\n",
       "\n",
       "    .dataframe thead th {\n",
       "        text-align: right;\n",
       "    }\n",
       "</style>\n",
       "<table border=\"1\" class=\"dataframe\">\n",
       "  <thead>\n",
       "    <tr style=\"text-align: right;\">\n",
       "      <th></th>\n",
       "      <th>experimento</th>\n",
       "      <th>usuarios</th>\n",
       "      <th>conversiones</th>\n",
       "      <th>tasa_conversion</th>\n",
       "    </tr>\n",
       "  </thead>\n",
       "  <tbody>\n",
       "    <tr>\n",
       "      <th>0</th>\n",
       "      <td>A</td>\n",
       "      <td>1000</td>\n",
       "      <td>150</td>\n",
       "      <td>0.150000</td>\n",
       "    </tr>\n",
       "    <tr>\n",
       "      <th>1</th>\n",
       "      <td>B</td>\n",
       "      <td>980</td>\n",
       "      <td>180</td>\n",
       "      <td>0.183673</td>\n",
       "    </tr>\n",
       "  </tbody>\n",
       "</table>\n",
       "</div>"
      ],
      "text/plain": [
       "  experimento  usuarios  conversiones  tasa_conversion\n",
       "0           A      1000           150         0.150000\n",
       "1           B       980           180         0.183673"
      ]
     },
     "execution_count": 4,
     "metadata": {},
     "output_type": "execute_result"
    }
   ],
   "source": [
    "experimentos = pd.DataFrame({\n",
    "    \"experimento\": [\"A\", \"B\"],\n",
    "    \"usuarios\": [1000, 980],\n",
    "    \"conversiones\": [150, 180]\n",
    "})\n",
    "experimentos[\"tasa_conversion\"] = experimentos[\"conversiones\"] / experimentos[\"usuarios\"]\n",
    "experimentos"
   ]
  },
  {
   "cell_type": "markdown",
   "id": "cf6f493f-1dc0-42ac-b8e0-c5ea738553ea",
   "metadata": {},
   "source": [
    "### 🧪 ¿Experimentar o no experimentar?\n",
    "### 💡 Cómo generar ideas\n",
    "### 🧠 Formulación de una buena hipótesis\n",
    "Una buena hipótesis es medible, específica y falsable.\n",
    "\\\n",
    "Ejemplo: “Agregar una prueba gratuita aumentará la tasa de conversión de los nuevos usuarios en un 10%”"
   ]
  },
  {
   "cell_type": "markdown",
   "id": "f2da343b-7664-4efa-a8ef-e84ce7b3436c",
   "metadata": {},
   "source": [
    "## ⚖️ Escoger un método experimental\n",
    "\n",
    "### 🧪 Métodos experimentales\n",
    "- **Cuantitativos:** A/B test, análisis de cohortes.\n",
    "- **Cualitativas:** Encuestas, entrevistas, mapas de calor.\n",
    "\n",
    "### 🔬 Métodos cualitativos de prueba de hipótesis\n",
    "No usan estadísticas. Sirven para entender el “por qué” detrás del comportamiento de los usuarios.\n",
    "\n",
    "### 📊 Métodos cuantitativos: Pruebas A/B\n",
    "Comparan dos versiones de algo (web, campaña) para ver cuál funciona mejor."
   ]
  },
  {
   "cell_type": "code",
   "execution_count": 5,
   "id": "37481604-1aff-413b-b3ad-4b20252210ca",
   "metadata": {},
   "outputs": [
    {
     "name": "stdout",
     "output_type": "stream",
     "text": [
      "Valor p: 0.044438080085133766\n"
     ]
    }
   ],
   "source": [
    "from scipy import stats\n",
    "\n",
    "grupo_a = [1]*150 + [0]*(1000-150)\n",
    "grupo_b = [1]*180 + [0]*(980-180)\n",
    "\n",
    "# Prueba z para dos proporciones\n",
    "z, p = stats.ttest_ind(grupo_a, grupo_b)\n",
    "print(\"Valor p:\", p)"
   ]
  },
  {
   "cell_type": "markdown",
   "id": "052b4aff-4677-4b3e-a0d5-57b15db40922",
   "metadata": {},
   "source": [
    "### ✅ Pros y contras de A/B Testing\n",
    "- **Ventajas:** Rápido, concreto, fácil de implementar.\n",
    "- **Desventas:** No sirve en muestras pequeñas, puede ser costoso."
   ]
  },
  {
   "cell_type": "markdown",
   "id": "bce9e549-6377-4579-bfc1-aa98b79e7497",
   "metadata": {},
   "source": [
    "### 📈 Un ejemplo de resultados de prueba A/B"
   ]
  },
  {
   "cell_type": "code",
   "execution_count": 6,
   "id": "f7ddbbbc-3f65-4cd8-aa0f-da37a9797d3f",
   "metadata": {},
   "outputs": [
    {
     "data": {
      "text/plain": [
       "<Axes: title={'center': 'Resultados del test A/B'}, xlabel='experimento'>"
      ]
     },
     "execution_count": 6,
     "metadata": {},
     "output_type": "execute_result"
    },
    {
     "data": {
      "image/png": "[encoded data removed]",
      "text/plain": [
       "<Figure size 640x480 with 1 Axes>"
      ]
     },
     "metadata": {},
     "output_type": "display_data"
    }
   ],
   "source": [
    "experimentos.plot.bar(x=\"experimento\", y=\"tasa_conversion\", title=\"Resultados del test A/B\")"
   ]
  },
  {
   "cell_type": "markdown",
   "id": "73f0c5b7-43bd-411c-aa70-4aa9c9b74477",
   "metadata": {},
   "source": [
    "## ⚖️ Priorizar hipótesis\n",
    "\n",
    "### 🎯 Cómo y por qué priorizamos\n",
    "No todas las hipótesis son igual de valiosas o fáciles de probar. Se priorizan usando el método RICE.\n",
    "\n",
    "### 📊 Parámetro de alcance (Reach)\n",
    "¿Cuántos usuarios se verían impactados por esta mejora?"
   ]
  },
  {
   "cell_type": "code",
   "execution_count": 7,
   "id": "2cf0f3ce-295b-424a-93a3-32566bc445a1",
   "metadata": {},
   "outputs": [
    {
     "data": {
      "text/plain": [
       "{'Idea A': 1000, 'Idea B': 5000}"
      ]
     },
     "execution_count": 7,
     "metadata": {},
     "output_type": "execute_result"
    }
   ],
   "source": [
    "alcance = {\"Idea A\": 1000, \"Idea B\": 5000}\n",
    "alcance"
   ]
  },
  {
   "cell_type": "markdown",
   "id": "952ed8df-63e9-4a6f-b38e-fff425ffd88d",
   "metadata": {},
   "source": [
    "### ⚡ Impacto (Impact)\n",
    "¿El cambio tendrá un gran efecto?"
   ]
  },
  {
   "cell_type": "code",
   "execution_count": 8,
   "id": "f4dfdb60-3747-4145-94a0-37d8e5ea76fb",
   "metadata": {},
   "outputs": [
    {
     "data": {
      "text/plain": [
       "{'Idea A': 3, 'Idea B': 2}"
      ]
     },
     "execution_count": 8,
     "metadata": {},
     "output_type": "execute_result"
    }
   ],
   "source": [
    "impacto = {\"Idea A\": 3, \"Idea B\": 2}  # Escala 1-5\n",
    "impacto"
   ]
  },
  {
   "cell_type": "markdown",
   "id": "2bf0d1fc-0e22-4e54-b86e-3753b3611c7f",
   "metadata": {},
   "source": [
    "### 🛠 Esfuerzo (Effort)\n",
    "¿Cuánto trabajo (en horas o costo) requiere esta idea?"
   ]
  },
  {
   "cell_type": "code",
   "execution_count": 9,
   "id": "d1adfe0a-d628-4911-a82c-3f29e3bba4dd",
   "metadata": {},
   "outputs": [
    {
     "data": {
      "text/plain": [
       "{'Idea A': 20, 'Idea B': 10}"
      ]
     },
     "execution_count": 9,
     "metadata": {},
     "output_type": "execute_result"
    }
   ],
   "source": [
    "esfuerzo = {\"Idea A\": 20, \"Idea B\": 10}\n",
    "esfuerzo"
   ]
  },
  {
   "cell_type": "markdown",
   "id": "a16730e4-b3f6-4fa4-b431-5521b45d6594",
   "metadata": {},
   "source": [
    "### 🔒 Confianza (Confidence)\n",
    "¿Confías en los datos o en la intuición para esta hipótesis?"
   ]
  },
  {
   "cell_type": "code",
   "execution_count": 10,
   "id": "e08f731a-2ad6-4a14-8f82-31511613e56a",
   "metadata": {},
   "outputs": [
    {
     "data": {
      "text/plain": [
       "{'Idea A': 0.9, 'Idea B': 0.7}"
      ]
     },
     "execution_count": 10,
     "metadata": {},
     "output_type": "execute_result"
    }
   ],
   "source": [
    "confianza = {\"Idea A\": 0.9, \"Idea B\": 0.7}\n",
    "confianza"
   ]
  },
  {
   "cell_type": "markdown",
   "id": "17bba82b-82c3-4486-8346-afa43c3167bf",
   "metadata": {},
   "source": [
    "### 🧮 Score RICE"
   ]
  },
  {
   "cell_type": "code",
   "execution_count": 11,
   "id": "e222d83c-4ae0-4e39-9da1-ac82e78d02bd",
   "metadata": {},
   "outputs": [
    {
     "data": {
      "text/html": [
       "<div>\n",
       "<style scoped>\n",
       "    .dataframe tbody tr th:only-of-type {\n",
       "        vertical-align: middle;\n",
       "    }\n",
       "\n",
       "    .dataframe tbody tr th {\n",
       "        vertical-align: top;\n",
       "    }\n",
       "\n",
       "    .dataframe thead th {\n",
       "        text-align: right;\n",
       "    }\n",
       "</style>\n",
       "<table border=\"1\" class=\"dataframe\">\n",
       "  <thead>\n",
       "    <tr style=\"text-align: right;\">\n",
       "      <th></th>\n",
       "      <th>idea</th>\n",
       "      <th>alcance</th>\n",
       "      <th>impacto</th>\n",
       "      <th>esfuerzo</th>\n",
       "      <th>confianza</th>\n",
       "      <th>score</th>\n",
       "    </tr>\n",
       "  </thead>\n",
       "  <tbody>\n",
       "    <tr>\n",
       "      <th>1</th>\n",
       "      <td>Idea B</td>\n",
       "      <td>5000</td>\n",
       "      <td>2</td>\n",
       "      <td>10</td>\n",
       "      <td>0.7</td>\n",
       "      <td>700.0</td>\n",
       "    </tr>\n",
       "    <tr>\n",
       "      <th>0</th>\n",
       "      <td>Idea A</td>\n",
       "      <td>1000</td>\n",
       "      <td>3</td>\n",
       "      <td>20</td>\n",
       "      <td>0.9</td>\n",
       "      <td>135.0</td>\n",
       "    </tr>\n",
       "  </tbody>\n",
       "</table>\n",
       "</div>"
      ],
      "text/plain": [
       "     idea  alcance  impacto  esfuerzo  confianza  score\n",
       "1  Idea B     5000        2        10        0.7  700.0\n",
       "0  Idea A     1000        3        20        0.9  135.0"
      ]
     },
     "execution_count": 11,
     "metadata": {},
     "output_type": "execute_result"
    }
   ],
   "source": [
    "import pandas as pd\n",
    "\n",
    "rice_df = pd.DataFrame({\n",
    "    \"idea\": [\"Idea A\", \"Idea B\"],\n",
    "    \"alcance\": [1000, 5000],\n",
    "    \"impacto\": [3, 2],\n",
    "    \"esfuerzo\": [20, 10],\n",
    "    \"confianza\": [0.9, 0.7]\n",
    "})\n",
    "\n",
    "rice_df[\"score\"] = (rice_df[\"alcance\"] * rice_df[\"impacto\"] * rice_df[\"confianza\"]) / rice_df[\"esfuerzo\"]\n",
    "rice_df.sort_values(\"score\", ascending=False)"
   ]
  }
 ],
 "metadata": {
  "kernelspec": {
   "display_name": "Python 3 (ipykernel)",
   "language": "python",
   "name": "python3"
  },
  "language_info": {
   "codemirror_mode": {
    "name": "ipython",
    "version": 3
   },
   "file_extension": ".py",
   "mimetype": "text/x-python",
   "name": "python",
   "nbconvert_exporter": "python",
   "pygments_lexer": "ipython3",
   "version": "3.12.7"
  }
 },
 "nbformat": 4,
 "nbformat_minor": 5
}