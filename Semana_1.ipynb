{
 "cells": [
  {
   "cell_type": "markdown",
   "id": "520331e5-1837-4a79-a730-84d060ad76f0",
   "metadata": {},
   "source": [
    "# Semana 1"
   ]
  },
  {
   "cell_type": "markdown",
   "id": "2d19cd95-1e8d-47a6-99ce-cc66e01df1e1",
   "metadata": {},
   "source": [
    "### 📌 Python\n",
    "\n",
    "Un **lenguaje de programación** es una notación sistemática mediante la cual se describen los procesos computacionales. Los lenguajes de programación permiten la formulación de algoritmos de manera que una computadora pueda realizar las acciones deseadas. Sin la disponibilidad de lenguajes (de alto nivel) sería simplemente imposible resolver problemas complejos usando computadoras, ya que solo entienden instrucciones binarias.\n",
    "\n",
    "![Python_LOGO](https://www.python.org/static/community_logos/python-logo-master-v3-TM.png)\n",
    "\n",
    "Es uno de los lenguajes de programación más populares debido a que:\n",
    "\n",
    "- Es simple e intuitivo ya que cuenta con una sintaxis fácil de aprender, escribir y leer.\n",
    "- Cuenta con una licencia de código abierto la cual permite que sea totalmente libre de usar, modificar, copiar o reproducir.\n",
    "- Es compatible con varios sistemas operativos cómo Linux, Windows, Mac OS, entre otros.\n",
    "- Es dinámico debido a que el entorno de ejecución de Python permite ejecutar las instrucciones y asignar en tiempo real las variables.\n",
    "- Contiene varías libresías y módulo que hacen ser a Python un lenguaje de programación especializado.\n",
    "- Es popular debido a que es un lenguaje construido y mantenido por la misma comunidad, y son éstos los encargados de crear herramientas nuevas día a día.\n"
   ]
  },
  {
   "cell_type": "markdown",
   "id": "b0dc42bb-b0a2-4ee1-a3ce-b47ab134ea33",
   "metadata": {},
   "source": [
    "##  1️⃣**Tipos de Datos en Python**\n",
    "📌 Python tiene varios tipos de datos incorporados. Algunos de los más comunes son:\n",
    "\n",
    "| Tipo de Dato              | Descripción | ejemplo |\n",
    "| :---------------- | :------: | ----: |\n",
    "| ```int```        |   Números enteros   | ```1, -5, 0``` |\n",
    "| ```float```        |   Números decimales   | ```100.0, 0.5, -2.5``` |\n",
    "| ```string (str)```        |   Cadenas de texto   | ```\"Hola\", 'Programación'``` |\n",
    "| ```bool```        |   Valores booleanos   | ```True, False``` |"
   ]
  },
  {
   "cell_type": "markdown",
   "id": "9c392022-52e0-48f1-a2a2-21e8d4aada55",
   "metadata": {},
   "source": [
    "## **2️⃣ Variables en Python**  \n",
    "📌 Una **variable** es un contenedor para almacenar valores dentro de la memoria del computador\n",
    "\n",
    "![Variable_Caja](https://d100mj7v0l85u5.cloudfront.net/s3fs-public/optimizar-gastos-con-sus-cajas-de-carton-corrugado-G-2.jpg)\n",
    "\n",
    "### 🔹 Declaración de Variables \n",
    "\n"
   ]
  },
  {
   "cell_type": "code",
   "execution_count": 14,
   "id": "19a6005e-740f-4088-9460-e05649888ef6",
   "metadata": {},
   "outputs": [],
   "source": [
    "nombre = \"Ana\"  # Variable tipo string\n",
    "Nombre = \"Santiago\"  # Variable tipo string\n",
    "edad = 25       # Variable tipo entero\n",
    "altura = 1.68   # Variable tipo float\n",
    "es_estudiante = True  # Variable tipo booleano"
   ]
  },
  {
   "cell_type": "code",
   "execution_count": 15,
   "id": "20cfec83-9d4b-46c7-ad3a-5274ac3c8729",
   "metadata": {},
   "outputs": [
    {
     "name": "stdout",
     "output_type": "stream",
     "text": [
      "Hola mundo\n",
      "Ana\n",
      "25\n",
      "Santiago\n"
     ]
    }
   ],
   "source": [
    "print(\"Hola mundo\")\n",
    "\n",
    "print(nombre)\n",
    "print(edad)\n",
    "print(Nombre)"
   ]
  },
  {
   "cell_type": "markdown",
   "id": "4d02e958-4c8b-4f6b-8911-c87c537d3835",
   "metadata": {},
   "source": [
    "## 3️⃣ Operaciones Aritméticas simples en Python\n",
    "📌 Python permite realizar operaciones matemáticas básicas y avanzadas."
   ]
  },
  {
   "cell_type": "code",
   "execution_count": 16,
   "id": "8a56bedd-9192-4713-adb9-e162d13e3e07",
   "metadata": {},
   "outputs": [],
   "source": [
    "#Variables\n",
    "nombre = \"Santiago\"\n",
    "Apellido = \"Sierra\"\n",
    "a = 10\n",
    "b = 3"
   ]
  },
  {
   "cell_type": "markdown",
   "id": "9de11745-a878-4a84-a1b4-546c9e08320c",
   "metadata": {},
   "source": [
    "### 📌 SUMA y RESTA"
   ]
  },
  {
   "cell_type": "code",
   "execution_count": 25,
   "id": "90068e8a-d262-4d87-a1e4-18ea75e13a62",
   "metadata": {},
   "outputs": [
    {
     "name": "stdout",
     "output_type": "stream",
     "text": [
      "puedo sumar numeros y/o variables que contengan números: a+b = 13\n",
      "--------------------------------------------------------------------------\n",
      "puedo restar numeros y/o variables que contengan números: a-b = 7\n"
     ]
    }
   ],
   "source": [
    "print(\"puedo sumar numeros y/o variables que contengan números: a+b =\",a+b)\n",
    "print('--------------------------------------------------------------------------')\n",
    "print(\"puedo restar numeros y/o variables que contengan números: a-b =\",a-b)"
   ]
  },
  {
   "cell_type": "markdown",
   "id": "982d7b18-ea48-4bde-a976-a545e2e91442",
   "metadata": {},
   "source": [
    "### 📌 POTENCIA y DIVISIÓN"
   ]
  },
  {
   "cell_type": "code",
   "execution_count": 28,
   "id": "70d6c09d-6787-406a-b488-0e96eaf9420f",
   "metadata": {},
   "outputs": [
    {
     "name": "stdout",
     "output_type": "stream",
     "text": [
      "puedo multiplicar numeros y/o variables que contengan números: a*b = 30\n",
      "--------------------------------------------------------------------------\n",
      "puedo dividir numeros y/o variables que contengan números: a/b = 3.3333333333333335\n"
     ]
    }
   ],
   "source": [
    "print(\"puedo multiplicar numeros y/o variables que contengan números: a*b =\",a*b)\n",
    "print('--------------------------------------------------------------------------')\n",
    "print(\"puedo dividir numeros y/o variables que contengan números: a/b =\",a/b)"
   ]
  },
  {
   "cell_type": "markdown",
   "id": "41b0421a-4511-4a13-b4ae-75c03a2d17d5",
   "metadata": {},
   "source": [
    "### 💻📖 Pongamos a prueba nuestro conocimiento\n",
    "\n",
    "Para que todo no se quedé con solo teoria, tratemos de resolver los siguientes 3 ejercicios para practicar (usaremos este link: https://www.online-python.com/)\n",
    "\n",
    "1. primero pondremos en practica nuestro print, Tratemos de que la siguiente imagen aparesca en nuestra consola:\n",
    "\n",
    "                        _~_   \n",
    "                       (o o)  \n",
    "                      /  V  \\\\ \n",
    "                     /(  _  )\\\\\n",
    "                       ^^ ^^  \n",
    "\n",
    "2. Calcular cuanto minutos hay en una semana usando tres variables.\n",
    "3. Escribir la siguiente operación: 5-8*4/2 y antes de correr el código, ¿cuanto creen que nos arroje la consola como resultado"
   ]
  },
  {
   "cell_type": "markdown",
   "id": "ad2efa22-e9bd-416b-a677-7c20cc0c9e1b",
   "metadata": {},
   "source": [
    "### 📌 Concatenación de str"
   ]
  },
  {
   "cell_type": "code",
   "execution_count": 29,
   "id": "d060e163-1e1e-4d8d-89fe-da62739a37d5",
   "metadata": {},
   "outputs": [
    {
     "name": "stdout",
     "output_type": "stream",
     "text": [
      "SantiagoSierra\n"
     ]
    }
   ],
   "source": [
    "print(nombre+Apellido)"
   ]
  },
  {
   "cell_type": "code",
   "execution_count": 30,
   "id": "4019c6c4-50db-4e24-b3d0-101ea9bedfcc",
   "metadata": {},
   "outputs": [
    {
     "name": "stdout",
     "output_type": "stream",
     "text": [
      "Santiago Sierra\n"
     ]
    }
   ],
   "source": [
    "print(nombre,Apellido)"
   ]
  },
  {
   "cell_type": "code",
   "execution_count": 31,
   "id": "92703f22-3d3c-4453-841f-a2b6fe644b33",
   "metadata": {},
   "outputs": [
    {
     "name": "stdout",
     "output_type": "stream",
     "text": [
      "mi nombre es Santiago y mes estoy acercando a mis 30 años\n"
     ]
    }
   ],
   "source": [
    "print(\"mi nombre es\", nombre, \"y mes estoy acercando a mis\", a*b, \"años\")"
   ]
  },
  {
   "cell_type": "markdown",
   "id": "929b7a27-e2ee-43a8-906e-6204efbe2855",
   "metadata": {},
   "source": [
    "## 4️⃣ Buenas Prácticas con Variables y Operaciones\n",
    "\n",
    "- ✅ Usa nombres de variables descriptivos (edad, altura_cm) en lugar de x, y.\n",
    "- ✅ Mantén la consistencia en los tipos de datos para evitar errores.\n",
    "- ✅ Comenta tu código para mejorar la legibilidad."
   ]
  },
  {
   "cell_type": "code",
   "execution_count": null,
   "id": "f35b215b-49b9-40d3-807b-63d5a8416ff0",
   "metadata": {},
   "outputs": [],
   "source": []
  }
 ],
 "metadata": {
  "kernelspec": {
   "display_name": "Python 3 (ipykernel)",
   "language": "python",
   "name": "python3"
  },
  "language_info": {
   "codemirror_mode": {
    "name": "ipython",
    "version": 3
   },
   "file_extension": ".py",
   "mimetype": "text/x-python",
   "name": "python",
   "nbconvert_exporter": "python",
   "pygments_lexer": "ipython3",
   "version": "3.11.5"
  }
 },
 "nbformat": 4,
 "nbformat_minor": 5
}
