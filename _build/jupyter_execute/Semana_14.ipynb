{
 "cells": [
  {
   "cell_type": "markdown",
   "id": "1abb3e93-3c05-4ad6-bffe-bf41c4d777e8",
   "metadata": {},
   "source": [
    "# Semana 14: 🖥️ Herramientas de Desarrollo de Software\n",
    "\n",
    "## Entorno de Desarrollo Individual\n",
    "El entorno de desarrollo individual es el conjunto de herramientas que un programador instala y configura en su propio equipo para escribir, ejecutar, depurar y mantener su código. Un entorno bien configurado aumenta la productividad, ayuda a escribir código limpio y facilita el trabajo en equipo.\n",
    "\n",
    "## 🖥 ¿Qué es un IDE?\n",
    "Un IDE (Entorno de Desarrollo Integrado) es una aplicación que combina herramientas básicas del desarrollo de software en una sola interfaz gráfica:\n",
    "- Editor de texto\n",
    "- Depurador\n",
    "- Terminal integrada\n",
    "- Control de versiones (Git)\n",
    "- Explorador de archivos\n",
    "- Extensiones para lenguajes de programación\n",
    "🔧 Ejemplos populares: VSCode, PyCharm, Atom, JupyterLab.\n",
    "\n",
    "## 🧰  Instalar VSCode\n",
    "Visual Studio Code es un editor de código ligero pero poderoso, muy popular entre desarrolladores de Python, JavaScript, y muchos otros lenguajes.\n",
    "\n",
    "📥 Pasos de instalación:\n",
    "- Ve a [https://code.visualstudio.com](https://code.visualstudio.com)\n",
    "- Elige tu sistema operativo (Windows, macOS, Linux).\n",
    "- Descarga e instala el instalador\n",
    "- Abre VScode y explora la interfaz\n",
    "\n",
    "## ✍️ Trabajar en VSCode\n",
    "Una vez instalado:\n",
    "- Abre una carpeta desde \"File > Open Folder\".\n",
    "- Crea archivos con extensión `.py`, `.ipynb`, `.php`, etc.\n",
    "- Ejecuta código Python desde la terminal o con la extensión de Python.\n",
    "\n",
    "## 🌐 Clonar un repositorio en Git remoto\n",
    "1. Asegurate de tener Git instalado `git --version`\n",
    "2. Copia URL del repositorio.\n",
    "3. En VScode:\n",
    "    - Abre la paleta comandos\n",
    "    - Escribe `git clone` y pega la URL del repositorio\n",
    "    - Elige dónde guardar la carpeta\n",
    "## 🧭 Control de código fuente en VSCode\n",
    "VSCode detecta automáticamente repositorios Git. Desde la pestaña de control de versiones:\n",
    "- Puedes ver los cambios en los archivos.\n",
    "- Hacer commits.\n",
    "- Sincronizar con GitHub.\n",
    "## 📓 Jupyter Notebooks en VSCode\n",
    "Puedes abrir y editar `.ipynb` (Jupyter Notebooks) directamente en VSCode.\n",
    "\n",
    "pasos:\n",
    "- Instala la extensión Jupyter desde la pestaña de extensiones.\n",
    "- Abre un archivo `.ipynb`.\n",
    "- VSCode mostrará una interfaz interactiva de celdas.\n",
    "\n",
    "## 💻 hora de poner a prueba lo que aprendimos\n",
    "Creamos un repositorio y lo linkeamos con el VScode"
   ]
  }
 ],
 "metadata": {
  "kernelspec": {
   "display_name": "Python 3 (ipykernel)",
   "language": "python",
   "name": "python3"
  },
  "language_info": {
   "codemirror_mode": {
    "name": "ipython",
    "version": 3
   },
   "file_extension": ".py",
   "mimetype": "text/x-python",
   "name": "python",
   "nbconvert_exporter": "python",
   "pygments_lexer": "ipython3",
   "version": "3.12.7"
  }
 },
 "nbformat": 4,
 "nbformat_minor": 5
}