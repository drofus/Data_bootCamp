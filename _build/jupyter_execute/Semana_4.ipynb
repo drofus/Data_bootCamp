{
 "cells": [
  {
   "cell_type": "markdown",
   "id": "02947149-7b25-4b65-aeaf-3d2af64ae00d",
   "metadata": {},
   "source": [
    "# Semana 4: Python Básico"
   ]
  },
  {
   "cell_type": "markdown",
   "id": "c010e7f0-20ee-4d51-8625-0963be74de58",
   "metadata": {},
   "source": [
    "## 🗂️ Diccionarios en Python\n",
    "\n",
    "Los diccionarios son poderosas estructuras de datos en Python que almacenan datos como pares de claves, siendo esta representada en la siguiente forma: Clave-Valor.\n",
    "\n",
    "### 🔹 Propiedades de los Diccionarios\n",
    "- Los diccionarios están delimitados por `{}`.\n",
    "- Contienen pares `clave: valor`.\n",
    "- Permiten acceso rápido a los valores mediante sus claves.\n",
    "- Son mutables, es decir, pueden modificarse."
   ]
  },
  {
   "cell_type": "code",
   "execution_count": 1,
   "id": "b124e2bd-c64f-4d6c-83e0-e4ba75ddefcd",
   "metadata": {},
   "outputs": [
    {
     "name": "stdout",
     "output_type": "stream",
     "text": [
      "{'Julia': 4.5, 'Kelly': 3.6, 'Roberto': 0.8}\n"
     ]
    }
   ],
   "source": [
    "notas = {\"Julia\": 4.5, \"Kelly\": 3.6, \"Roberto\": 0.8}\n",
    "\n",
    "print(notas)"
   ]
  },
  {
   "cell_type": "markdown",
   "id": "18c19709-5b78-418b-8ba7-a55cdce1523e",
   "metadata": {},
   "source": [
    "### 🔍 Extraer Valores de un Diccionario"
   ]
  },
  {
   "cell_type": "code",
   "execution_count": 2,
   "id": "b53aafd7-25a2-4701-9492-6e7e9ab18c9f",
   "metadata": {},
   "outputs": [
    {
     "name": "stdout",
     "output_type": "stream",
     "text": [
      "500\n"
     ]
    }
   ],
   "source": [
    "Prueba_deportiva = {'Jorge':500,'Diana':600,'Rodrigo':800,'Julia':750,'Liliana':900}\n",
    "\n",
    "print(Prueba_deportiva[\"Jorge\"])"
   ]
  },
  {
   "cell_type": "code",
   "execution_count": 3,
   "id": "fa634756-557d-4208-91a3-4aadefe87631",
   "metadata": {},
   "outputs": [
    {
     "name": "stdout",
     "output_type": "stream",
     "text": [
      "{'Informatica': 300, 'Electros-Hogar': 487, 'Carnes': 1506, 'Vegetales': 8965, 'Otros': 785}\n"
     ]
    }
   ],
   "source": [
    "Datos_ventas = {\n",
    "    \"Enero\": {\"Informatica\":300, \"Electros-Hogar\":487, \"Carnes\": 1506, \"Vegetales\":8965, \"Otros\": 785},\n",
    "    \"Febrero\": {\"Informatica\":478, \"Electros-Hogar\":120, \"Carnes\": 856, \"Vegetales\":2560, \"Otros\": 230},\n",
    "    \"Marzo\": {\"Informatica\":120, \"Electros-Hogar\":250, \"Carnes\": 550, \"Vegetales\":3000, \"Otros\": 78}\n",
    "}\n",
    "\n",
    "\n",
    "print(Datos_ventas[\"Enero\"])"
   ]
  },
  {
   "cell_type": "code",
   "execution_count": 4,
   "id": "17eea7d9-fe29-4273-8955-ea4ca2482af1",
   "metadata": {},
   "outputs": [
    {
     "name": "stdout",
     "output_type": "stream",
     "text": [
      "1506\n"
     ]
    }
   ],
   "source": [
    "print(Datos_ventas[\"Enero\"][\"Carnes\"])"
   ]
  },
  {
   "cell_type": "code",
   "execution_count": 5,
   "id": "c520a7a8-d8d8-495d-868b-caf20491fdec",
   "metadata": {},
   "outputs": [
    {
     "name": "stdout",
     "output_type": "stream",
     "text": [
      "500\n"
     ]
    }
   ],
   "source": [
    "Prueba_deportiva = {'Jorge':500,'Diana':600,'Rodrigo':800,'Julia':750,'Liliana':900}\n",
    "\n",
    "print(Prueba_deportiva.get(\"Jorge\"))"
   ]
  },
  {
   "cell_type": "code",
   "execution_count": 6,
   "id": "e0903d0d-cf9a-447e-b1ec-80156b06bac9",
   "metadata": {},
   "outputs": [
    {
     "name": "stdout",
     "output_type": "stream",
     "text": [
      "Not Found Data\n"
     ]
    }
   ],
   "source": [
    "print(Prueba_deportiva.get(\"Fernando\", 'Not Found Data'))"
   ]
  },
  {
   "cell_type": "code",
   "execution_count": 7,
   "id": "1a68c8fd-36d2-4a73-8c63-b109537ae12b",
   "metadata": {},
   "outputs": [
    {
     "name": "stdout",
     "output_type": "stream",
     "text": [
      "Fernando no ha presentado la prueba deportiva y será descalificado\n"
     ]
    }
   ],
   "source": [
    "if Prueba_deportiva.get(\"Fernando\") == None:\n",
    "    print(\"Fernando no ha presentado la prueba deportiva y será descalificado\")"
   ]
  },
  {
   "cell_type": "markdown",
   "id": "3406fe27-7a9b-4220-9251-72db0a5f3364",
   "metadata": {},
   "source": [
    "### ➕ Agregar y Eliminar Elementos"
   ]
  },
  {
   "cell_type": "code",
   "execution_count": 8,
   "id": "156e1421-6659-4f2e-98a7-35d0d10aa043",
   "metadata": {},
   "outputs": [
    {
     "name": "stdout",
     "output_type": "stream",
     "text": [
      "{'David': 'New York'}\n"
     ]
    }
   ],
   "source": [
    "usuario = {}\n",
    "\n",
    "usuario[\"David\"] = \"New York\"\n",
    "\n",
    "print(usuario)"
   ]
  },
  {
   "cell_type": "code",
   "execution_count": 9,
   "id": "20f20556-bdc9-4cca-ba69-bab3197905cf",
   "metadata": {},
   "outputs": [
    {
     "name": "stdout",
     "output_type": "stream",
     "text": [
      "{'a': 1, 'b': 2, 'c': 3, 'd': 4}\n",
      "{'a': 1, 'b': 2, 'c': 3, 'd': 4, 'e': 5, 'f': 6}\n"
     ]
    }
   ],
   "source": [
    "base_datos = {\"a\": 1,\"b\": 2,\"c\": 3,\"d\": 4}\n",
    "nuevos_datos = {\"e\":5,\"f\":6}\n",
    "\n",
    "print(base_datos)\n",
    "\n",
    "base_datos.update(nuevos_datos)\n",
    "\n",
    "print(base_datos)"
   ]
  },
  {
   "cell_type": "code",
   "execution_count": 10,
   "id": "fc796c7f-516b-4408-8b8f-176674ceb274",
   "metadata": {},
   "outputs": [
    {
     "name": "stdout",
     "output_type": "stream",
     "text": [
      "{'Julia': 4.5, 'Kelly': 3.6, 'Roberto': 0.8}\n",
      "{'Julia': 4.5, 'Roberto': 0.8}\n"
     ]
    }
   ],
   "source": [
    "notas = {\"Julia\": 4.5, \"Kelly\": 3.6, \"Roberto\": 0.8}\n",
    "\n",
    "print(notas)\n",
    "\n",
    "notas.pop(\"Kelly\")\n",
    "\n",
    "print(notas)"
   ]
  },
  {
   "cell_type": "code",
   "execution_count": 11,
   "id": "49ff664e-bd20-4363-9bd7-633d8e454d09",
   "metadata": {},
   "outputs": [
    {
     "name": "stdout",
     "output_type": "stream",
     "text": [
      "{'Julia': 4.5, 'Kelly': 3.6, 'Roberto': 0.8}\n",
      "{'Julia': 4.5, 'Kelly': 3.6}\n"
     ]
    }
   ],
   "source": [
    "notas = {\"Julia\": 4.5, \"Kelly\": 3.6, \"Roberto\": 0.8}\n",
    "\n",
    "print(notas)\n",
    "\n",
    "del notas[\"Roberto\"]\n",
    "\n",
    "print(notas)"
   ]
  },
  {
   "cell_type": "markdown",
   "id": "0784bbbf-3346-4cd3-bf77-9fbc9e34a09d",
   "metadata": {},
   "source": [
    "### 💻📖 Pongamos a prueba nuestro conocimiento\n",
    "\n",
    "Para que todo no se quedé con solo teoria, tratemos de resolver un ejercicio para practicar (usaremos este link: https://www.online-python.com/\n",
    "\n",
    "1. Escriba un programa que almacene el diccionario con los créditos de las asignaturas de un semestre {'Matemáticas': 6, 'Física': 4, 'Química': 5, 'Historia': 3} y después muestre por pantalla los créditos de cada asignatura en el formato \" `<asignatura>` tiene `<creditos>` créditos, donde `<asignatura>` es cada una de las asignaturas del curso, y `<creditos>` son sus créditos. Al final debe mostrar también el número total de créditos del semestre."
   ]
  },
  {
   "cell_type": "markdown",
   "id": "d881173d-3e91-4e78-813b-9bc26b849a26",
   "metadata": {},
   "source": [
    "## 🛠️ Funciones en Python\n",
    "\n",
    "Las funciones nos permiten estructurar código reutilizable y organizado. Las funciones pueden ser creadas con la sentencia `def`:"
   ]
  },
  {
   "cell_type": "code",
   "execution_count": 12,
   "id": "cf69a889-e7da-4bf1-970c-40fae977b5f6",
   "metadata": {},
   "outputs": [],
   "source": [
    "def mi_funcion(parametros):\n",
    "  #procedimimentos\n",
    "  return print('¡Esto es una función!')"
   ]
  },
  {
   "cell_type": "markdown",
   "id": "6a9c03dc-26b0-42d5-9192-3633f409655a",
   "metadata": {},
   "source": [
    "Las funciones tienen tres partes importantes:\n",
    "\n",
    "1. **Entradas:** Lo que se le conoce como parámetros. La entrada puede no ser necesaria, puede ser un valor que viene desde el principal o puede ser un valor predeterminado.\n",
    "2. **Salidas:** Lo que regresa la función, en algunos casos la función no regresa nada y modifica sus entradas (lo que se llama in situ)\n",
    "3. **Procedimiento:** Las funciones son códigos más pequeños que encapsulan algo que va ser repetitivo y que usaremos dentro de nuestro código principal.\n"
   ]
  },
  {
   "cell_type": "code",
   "execution_count": 13,
   "id": "b9a4157a-9486-4754-a784-880bbac4286a",
   "metadata": {},
   "outputs": [
    {
     "name": "stdout",
     "output_type": "stream",
     "text": [
      "25\n"
     ]
    }
   ],
   "source": [
    "def cuadrados(a):   #Uso de la sentencia def para definir la funcion de nombre 'cuadrados'.\n",
    "  a2 = a**2\n",
    "  return a2     #Con el return se sentencia que la funcion entregará una salida.\n",
    "\n",
    "a = cuadrados(-5)\n",
    "print(a)"
   ]
  },
  {
   "cell_type": "code",
   "execution_count": 14,
   "id": "94da11b4-e102-4823-9fd8-1e12d1dbf049",
   "metadata": {},
   "outputs": [
    {
     "name": "stdout",
     "output_type": "stream",
     "text": [
      "[15129, 4919524, 9, 16]\n"
     ]
    }
   ],
   "source": [
    "def cuadrados_lista(lista:list):\n",
    "  lista_cuadrados = []              #Crea una lista vacía\n",
    "  for i in lista:            #Define un ciclo for ingresando a los elementos de lista\n",
    "    lista_cuadrados.append(i ** 2)      #Llena la lista vacía con el cuadrado de los elementos en lista.\n",
    "  return lista_cuadrados            #Devuelve la lista con los elementos elevados al cuadrado.\n",
    "\n",
    "\n",
    "lista = [123, 2218, 3, 4]\n",
    "\n",
    "print(cuadrados_lista(lista))"
   ]
  },
  {
   "cell_type": "code",
   "execution_count": 15,
   "id": "70cdd387-e6fe-4b49-9093-67e6a5a5e90a",
   "metadata": {},
   "outputs": [],
   "source": [
    "notas = {\"Julia\": 4.5, \"Kelly\": 3.6, \"Roberto\": 0.8, \"Daniel\": 4.8, \"Waira\": 3.0, \"Angie\": 1.8, \"Ana\": 5.0}\n",
    "\n",
    "def filtro(notas:dict):\n",
    "    for i in notas:\n",
    "        if notas[i] >= 4.5:\n",
    "            print(i, \"se ganó la beca\")"
   ]
  },
  {
   "cell_type": "code",
   "execution_count": 16,
   "id": "bc62e325-cbc9-4c0f-adfc-7836d07cafb2",
   "metadata": {},
   "outputs": [
    {
     "name": "stdout",
     "output_type": "stream",
     "text": [
      "Julia se ganó la beca\n",
      "Daniel se ganó la beca\n",
      "Ana se ganó la beca\n"
     ]
    }
   ],
   "source": [
    "filtro(notas)"
   ]
  },
  {
   "cell_type": "markdown",
   "id": "b850b192-b494-4700-bc6a-42d000ee029d",
   "metadata": {},
   "source": [
    "### 🌍 Variables Globales y Locales"
   ]
  },
  {
   "cell_type": "code",
   "execution_count": 17,
   "id": "f03c5837-a23d-45fc-b3ad-a6cf6c8d0f23",
   "metadata": {},
   "outputs": [],
   "source": [
    "valor_global = 10\n",
    "\n",
    "def ejemplo():\n",
    "    valor_local = 5\n",
    "    return valor_global + valor_local"
   ]
  },
  {
   "cell_type": "markdown",
   "id": "c3d5e523-2220-49bb-a1b2-8240ed48e62b",
   "metadata": {},
   "source": [
    "### 💻📖 Pongamos a prueba nuestro conocimiento\n",
    "\n",
    "Para que todo no se quedé con solo teoria, tratemos de resolver un ejercicio para practicar (usaremos este link: https://www.online-python.com/\n",
    "\n",
    "1. Convierte esta lista\n",
    "```python\n",
    "productos = [\n",
    "    [\"001\", \"Laptop Dell\", \"ELECTRONICS\", 1200, 5],\n",
    "    [\"002\", \"Bicicleta Montaña\", \"SPORT\", 850, 2],\n",
    "    [\"003\", \"Libro 'Python avanzado'\", \"BOOKS\", 45, 10],\n",
    "    [\"004\", \"Perfume Chanel\", \"BEAUTY\", 95, 7],\n",
    "    [\"005\", \"Sofá de cuero\", \"HOME\", 700, 1]\n",
    "]\n",
    "``` \n",
    "en un diccionario donde cada producto tenga claves como: \"id\", \"nombre\", \"categoría\", \"precio\", \"stock\".\n",
    "\n",
    "2.  Escribe una función que filtre los empleados del departamento de \"TI\" y los muestre en una nueva lista.\n",
    "```python\n",
    "\n"
   ]
  },
  {
   "cell_type": "code",
   "execution_count": null,
   "id": "012f40be-3eba-4479-afa2-188203e62aac",
   "metadata": {},
   "outputs": [],
   "source": []
  }
 ],
 "metadata": {
  "kernelspec": {
   "display_name": "Python 3 (ipykernel)",
   "language": "python",
   "name": "python3"
  },
  "language_info": {
   "codemirror_mode": {
    "name": "ipython",
    "version": 3
   },
   "file_extension": ".py",
   "mimetype": "text/x-python",
   "name": "python",
   "nbconvert_exporter": "python",
   "pygments_lexer": "ipython3",
   "version": "3.11.5"
  }
 },
 "nbformat": 4,
 "nbformat_minor": 5
}