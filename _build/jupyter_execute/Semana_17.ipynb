{
 "cells": [
  {
   "cell_type": "markdown",
   "id": "92cafbfe-898d-4881-ac0a-ef3b7e475d1e",
   "metadata": {},
   "source": [
    "# Semana 17: Análisis de negocio 💼\n",
    "\n",
    "## Métricas y Embudos 📒\n",
    "En el análisis de negocios, usamos métricas clave para entender el desempeño de una empresa. Los embudos (funnels) nos ayudan a visualizar cómo los usuarios progresan en etapas sucesivas de un proceso, como una compra o una suscripción. Mediante este análisis, podemos identificar cuellos de botella y oportunidades de optimización.\n",
    "\n",
    "### Ingreso, ganancias y rentabilidad de inversión (ROI) 💹\n",
    "- El ingreso es el dinero recibido por ventas.\n",
    "- La ganancia es lo que queda después de restar los costos.\n",
    "- El ROI (Return on Investment) nos indica la eficiencia de una inversión: cuánto ganamos por cada unidad monetaria invertida."
   ]
  },
  {
   "cell_type": "code",
   "execution_count": 1,
   "id": "dc1f527c-4960-45cb-b4b4-514a62f9c076",
   "metadata": {},
   "outputs": [
    {
     "data": {
      "text/html": [
       "<div>\n",
       "<style scoped>\n",
       "    .dataframe tbody tr th:only-of-type {\n",
       "        vertical-align: middle;\n",
       "    }\n",
       "\n",
       "    .dataframe tbody tr th {\n",
       "        vertical-align: top;\n",
       "    }\n",
       "\n",
       "    .dataframe thead th {\n",
       "        text-align: right;\n",
       "    }\n",
       "</style>\n",
       "<table border=\"1\" class=\"dataframe\">\n",
       "  <thead>\n",
       "    <tr style=\"text-align: right;\">\n",
       "      <th></th>\n",
       "      <th>cliente_id</th>\n",
       "      <th>ingreso</th>\n",
       "      <th>costo</th>\n",
       "      <th>ganancia</th>\n",
       "      <th>ROI</th>\n",
       "    </tr>\n",
       "  </thead>\n",
       "  <tbody>\n",
       "    <tr>\n",
       "      <th>0</th>\n",
       "      <td>1</td>\n",
       "      <td>100</td>\n",
       "      <td>30</td>\n",
       "      <td>70</td>\n",
       "      <td>233.333333</td>\n",
       "    </tr>\n",
       "    <tr>\n",
       "      <th>1</th>\n",
       "      <td>2</td>\n",
       "      <td>250</td>\n",
       "      <td>100</td>\n",
       "      <td>150</td>\n",
       "      <td>150.000000</td>\n",
       "    </tr>\n",
       "    <tr>\n",
       "      <th>2</th>\n",
       "      <td>3</td>\n",
       "      <td>300</td>\n",
       "      <td>150</td>\n",
       "      <td>150</td>\n",
       "      <td>100.000000</td>\n",
       "    </tr>\n",
       "    <tr>\n",
       "      <th>3</th>\n",
       "      <td>4</td>\n",
       "      <td>400</td>\n",
       "      <td>250</td>\n",
       "      <td>150</td>\n",
       "      <td>60.000000</td>\n",
       "    </tr>\n",
       "  </tbody>\n",
       "</table>\n",
       "</div>"
      ],
      "text/plain": [
       "   cliente_id  ingreso  costo  ganancia         ROI\n",
       "0           1      100     30        70  233.333333\n",
       "1           2      250    100       150  150.000000\n",
       "2           3      300    150       150  100.000000\n",
       "3           4      400    250       150   60.000000"
      ]
     },
     "execution_count": 1,
     "metadata": {},
     "output_type": "execute_result"
    }
   ],
   "source": [
    "import pandas as pd\n",
    "\n",
    "data = pd.DataFrame({\n",
    "    'cliente_id': [1, 2, 3, 4],\n",
    "    'ingreso': [100, 250, 300, 400],\n",
    "    'costo': [30, 100, 150, 250]\n",
    "})\n",
    "\n",
    "data['ganancia'] = data['ingreso'] - data['costo']\n",
    "data['ROI'] = (data['ganancia'] / data['costo']) * 100\n",
    "\n",
    "data"
   ]
  },
  {
   "cell_type": "markdown",
   "id": "33e72c1a-b35b-458e-8efe-966a30f318b3",
   "metadata": {},
   "source": [
    "### Tasa de conversión 🧮\n",
    "La tasa de conversión indica el porcentaje de usuarios que realizaron una acción deseada, como una compra, entre todos los que participaron en el proceso."
   ]
  },
  {
   "cell_type": "code",
   "execution_count": 2,
   "id": "388cd1d1-3898-4f64-b5ac-e7b30d4b0632",
   "metadata": {},
   "outputs": [
    {
     "name": "stdout",
     "output_type": "stream",
     "text": [
      "Tasa de conversión: 8.00%\n"
     ]
    }
   ],
   "source": [
    "visitas = 1000\n",
    "compras = 80\n",
    "\n",
    "tasa_conversion = compras / visitas\n",
    "print(f'Tasa de conversión: {tasa_conversion:.2%}')"
   ]
  },
  {
   "cell_type": "markdown",
   "id": "75b242c6-70ca-4c58-af9c-e20da2b155bd",
   "metadata": {},
   "source": [
    "### Embudos de conversión 🧺\n",
    "Un embudo muestra cómo se reduce el número de usuarios a medida que avanzan por diferentes etapas. Sirve para identificar dónde abandonan los usuarios."
   ]
  },
  {
   "cell_type": "code",
   "execution_count": 3,
   "id": "5e439eb2-3a14-49e9-b85b-50348d08c681",
   "metadata": {},
   "outputs": [
    {
     "data": {
      "text/html": [
       "<div>\n",
       "<style scoped>\n",
       "    .dataframe tbody tr th:only-of-type {\n",
       "        vertical-align: middle;\n",
       "    }\n",
       "\n",
       "    .dataframe tbody tr th {\n",
       "        vertical-align: top;\n",
       "    }\n",
       "\n",
       "    .dataframe thead th {\n",
       "        text-align: right;\n",
       "    }\n",
       "</style>\n",
       "<table border=\"1\" class=\"dataframe\">\n",
       "  <thead>\n",
       "    <tr style=\"text-align: right;\">\n",
       "      <th></th>\n",
       "      <th>etapa</th>\n",
       "      <th>usuarios</th>\n",
       "      <th>tasa_conversion_etapa</th>\n",
       "    </tr>\n",
       "  </thead>\n",
       "  <tbody>\n",
       "    <tr>\n",
       "      <th>0</th>\n",
       "      <td>Visita</td>\n",
       "      <td>1000</td>\n",
       "      <td>1.00</td>\n",
       "    </tr>\n",
       "    <tr>\n",
       "      <th>1</th>\n",
       "      <td>Añadir al carrito</td>\n",
       "      <td>400</td>\n",
       "      <td>0.40</td>\n",
       "    </tr>\n",
       "    <tr>\n",
       "      <th>2</th>\n",
       "      <td>Checkout</td>\n",
       "      <td>200</td>\n",
       "      <td>0.20</td>\n",
       "    </tr>\n",
       "    <tr>\n",
       "      <th>3</th>\n",
       "      <td>Compra</td>\n",
       "      <td>80</td>\n",
       "      <td>0.08</td>\n",
       "    </tr>\n",
       "  </tbody>\n",
       "</table>\n",
       "</div>"
      ],
      "text/plain": [
       "               etapa  usuarios  tasa_conversion_etapa\n",
       "0             Visita      1000                   1.00\n",
       "1  Añadir al carrito       400                   0.40\n",
       "2           Checkout       200                   0.20\n",
       "3             Compra        80                   0.08"
      ]
     },
     "execution_count": 3,
     "metadata": {},
     "output_type": "execute_result"
    }
   ],
   "source": [
    "embudo = pd.DataFrame({\n",
    "    'etapa': ['Visita', 'Añadir al carrito', 'Checkout', 'Compra'],\n",
    "    'usuarios': [1000, 400, 200, 80]\n",
    "})\n",
    "\n",
    "embudo['tasa_conversion_etapa'] = embudo['usuarios'] / embudo['usuarios'].iloc[0]\n",
    "\n",
    "embudo"
   ]
  },
  {
   "cell_type": "markdown",
   "id": "063595b3-7a71-49f3-b8d4-e8a85c64d0f6",
   "metadata": {},
   "source": [
    "### Embudo de marketing: impresiones, CTR y CR 🗂️\n",
    "\n",
    "- **Impresiones:** Veces que se muestra un anuncio.\n",
    "- **CTR (Click-Through Rate):** Porcentaje de impresiones que generan clics.\n",
    "- **CR (Conversion Rate):** Porcentaje de clics que se convierten en conversiones (compras)."
   ]
  },
  {
   "cell_type": "code",
   "execution_count": 4,
   "id": "9af46df2-e82e-4abc-a63a-4c396935fbcf",
   "metadata": {},
   "outputs": [
    {
     "name": "stdout",
     "output_type": "stream",
     "text": [
      "CTR: 8.00%, CR: 20.00%\n"
     ]
    }
   ],
   "source": [
    "impresiones = 5000\n",
    "clicks = 400\n",
    "compras = 80\n",
    "\n",
    "ctr = clicks / impresiones\n",
    "cr = compras / clicks\n",
    "\n",
    "print(f'CTR: {ctr:.2%}, CR: {cr:.2%}')"
   ]
  },
  {
   "cell_type": "markdown",
   "id": "dd770802-e740-437e-88a8-da42530f25ab",
   "metadata": {},
   "source": [
    "### Agrupación por semanas y meses 🗄️\n",
    "Agrupar por semana o mes ayuda a observar tendencias y patrones temporales en las métricas de negocio."
   ]
  },
  {
   "cell_type": "code",
   "execution_count": 5,
   "id": "c4d920c1-ed8d-4def-a93e-a489dd6d947b",
   "metadata": {},
   "outputs": [
    {
     "data": {
      "text/plain": [
       "semana\n",
       "1     1122\n",
       "2     1630\n",
       "3     1912\n",
       "4     1604\n",
       "5     1966\n",
       "6     2088\n",
       "7     1903\n",
       "8     1053\n",
       "9     1401\n",
       "10    2026\n",
       "11    2073\n",
       "12    1783\n",
       "13    1105\n",
       "Name: ingresos, dtype: int64"
      ]
     },
     "execution_count": 5,
     "metadata": {},
     "output_type": "execute_result"
    }
   ],
   "source": [
    "import numpy as np\n",
    "\n",
    "df = pd.DataFrame({\n",
    "    'fecha': pd.date_range(start='2024-01-01', periods=90, freq='D'),\n",
    "    'ingresos': np.random.randint(50, 500, size=90)\n",
    "})\n",
    "\n",
    "df['semana'] = df['fecha'].dt.isocalendar().week\n",
    "df['mes'] = df['fecha'].dt.month\n",
    "\n",
    "df.groupby('semana')['ingresos'].sum()\n"
   ]
  },
  {
   "cell_type": "markdown",
   "id": "a354a1e5-81c2-4c91-b344-3b87c1244db1",
   "metadata": {},
   "source": [
    "### Embudos de producto simples 🧶\n",
    "Estos embudos representan el camino que sigue un usuario dentro de un producto, desde el registro hasta la conversión final."
   ]
  },
  {
   "cell_type": "code",
   "execution_count": 6,
   "id": "6cd8b9f8-fc07-4bf0-b1be-c0a4a138566e",
   "metadata": {},
   "outputs": [
    {
     "data": {
      "text/html": [
       "<div>\n",
       "<style scoped>\n",
       "    .dataframe tbody tr th:only-of-type {\n",
       "        vertical-align: middle;\n",
       "    }\n",
       "\n",
       "    .dataframe tbody tr th {\n",
       "        vertical-align: top;\n",
       "    }\n",
       "\n",
       "    .dataframe thead th {\n",
       "        text-align: right;\n",
       "    }\n",
       "</style>\n",
       "<table border=\"1\" class=\"dataframe\">\n",
       "  <thead>\n",
       "    <tr style=\"text-align: right;\">\n",
       "      <th></th>\n",
       "      <th>etapa</th>\n",
       "      <th>usuarios</th>\n",
       "      <th>tasa</th>\n",
       "    </tr>\n",
       "  </thead>\n",
       "  <tbody>\n",
       "    <tr>\n",
       "      <th>0</th>\n",
       "      <td>registro</td>\n",
       "      <td>1000</td>\n",
       "      <td>1.00</td>\n",
       "    </tr>\n",
       "    <tr>\n",
       "      <th>1</th>\n",
       "      <td>activación</td>\n",
       "      <td>800</td>\n",
       "      <td>0.80</td>\n",
       "    </tr>\n",
       "    <tr>\n",
       "      <th>2</th>\n",
       "      <td>uso</td>\n",
       "      <td>500</td>\n",
       "      <td>0.50</td>\n",
       "    </tr>\n",
       "    <tr>\n",
       "      <th>3</th>\n",
       "      <td>compra</td>\n",
       "      <td>150</td>\n",
       "      <td>0.15</td>\n",
       "    </tr>\n",
       "  </tbody>\n",
       "</table>\n",
       "</div>"
      ],
      "text/plain": [
       "        etapa  usuarios  tasa\n",
       "0    registro      1000  1.00\n",
       "1  activación       800  0.80\n",
       "2         uso       500  0.50\n",
       "3      compra       150  0.15"
      ]
     },
     "execution_count": 6,
     "metadata": {},
     "output_type": "execute_result"
    }
   ],
   "source": [
    "etapas = ['registro', 'activación', 'uso', 'compra']\n",
    "usuarios = [1000, 800, 500, 150]\n",
    "\n",
    "embudo_producto = pd.DataFrame({'etapa': etapas, 'usuarios': usuarios})\n",
    "embudo_producto['tasa'] = embudo_producto['usuarios'] / embudo_producto['usuarios'][0]\n",
    "\n",
    "embudo_producto"
   ]
  },
  {
   "cell_type": "markdown",
   "id": "6648f405-e58c-4ee8-8062-063392077583",
   "metadata": {},
   "source": [
    "### Embudos con secuencia de eventos 🗓️\n",
    "Al analizar eventos registrados por los usuarios (como \"registro\", \"uso\", \"compra\"), podemos reconstruir su recorrido y detectar comportamientos típicos o inusuales."
   ]
  },
  {
   "cell_type": "code",
   "execution_count": 7,
   "id": "e46f97d5-5486-4b3d-a0b6-ddb1ac4c58d1",
   "metadata": {},
   "outputs": [
    {
     "data": {
      "text/html": [
       "<div>\n",
       "<style scoped>\n",
       "    .dataframe tbody tr th:only-of-type {\n",
       "        vertical-align: middle;\n",
       "    }\n",
       "\n",
       "    .dataframe tbody tr th {\n",
       "        vertical-align: top;\n",
       "    }\n",
       "\n",
       "    .dataframe thead th {\n",
       "        text-align: right;\n",
       "    }\n",
       "</style>\n",
       "<table border=\"1\" class=\"dataframe\">\n",
       "  <thead>\n",
       "    <tr style=\"text-align: right;\">\n",
       "      <th>evento</th>\n",
       "      <th>activación</th>\n",
       "      <th>compra</th>\n",
       "      <th>registro</th>\n",
       "      <th>uso</th>\n",
       "    </tr>\n",
       "    <tr>\n",
       "      <th>usuario_id</th>\n",
       "      <th></th>\n",
       "      <th></th>\n",
       "      <th></th>\n",
       "      <th></th>\n",
       "    </tr>\n",
       "  </thead>\n",
       "  <tbody>\n",
       "    <tr>\n",
       "      <th>1</th>\n",
       "      <td>1</td>\n",
       "      <td>1</td>\n",
       "      <td>1</td>\n",
       "      <td>0</td>\n",
       "    </tr>\n",
       "    <tr>\n",
       "      <th>2</th>\n",
       "      <td>1</td>\n",
       "      <td>0</td>\n",
       "      <td>1</td>\n",
       "      <td>0</td>\n",
       "    </tr>\n",
       "    <tr>\n",
       "      <th>3</th>\n",
       "      <td>0</td>\n",
       "      <td>1</td>\n",
       "      <td>1</td>\n",
       "      <td>1</td>\n",
       "    </tr>\n",
       "  </tbody>\n",
       "</table>\n",
       "</div>"
      ],
      "text/plain": [
       "evento      activación  compra  registro  uso\n",
       "usuario_id                                   \n",
       "1                    1       1         1    0\n",
       "2                    1       0         1    0\n",
       "3                    0       1         1    1"
      ]
     },
     "execution_count": 7,
     "metadata": {},
     "output_type": "execute_result"
    }
   ],
   "source": [
    "eventos = pd.DataFrame({\n",
    "    'usuario_id': [1, 1, 1, 2, 2, 3, 3, 3],\n",
    "    'evento': ['registro', 'activación', 'compra', 'registro', 'activación', 'registro', 'uso', 'compra'],\n",
    "    'fecha': pd.to_datetime(['2024-01-01', '2024-01-02', '2024-01-05',\n",
    "                             '2024-01-01', '2024-01-03',\n",
    "                             '2024-01-02', '2024-01-03', '2024-01-07'])\n",
    "})\n",
    "\n",
    "pivot = eventos.pivot_table(index='usuario_id', columns='evento', aggfunc='size', fill_value=0)\n",
    "pivot"
   ]
  },
  {
   "cell_type": "markdown",
   "id": "45f96919-4c95-45a9-a33f-6695b8344b01",
   "metadata": {},
   "source": [
    "## Análisis de cohortes 📈\n",
    "Una cohorte es un grupo de usuarios que comparten una característica común durante un periodo determinado, como la fecha de registro. El **análisis de cohortes** permite estudiar cómo se comportan esos grupos a lo largo del tiempo, lo cual es útil para entender la retención de usuarios, el valor de vida útil, entre otros indicadores clave.\n",
    "\n",
    "\\\n",
    "Este análisis se basa en agrupar usuarios según su fecha de inicio (registro, primera compra, etc.) y luego observar su comportamiento en los meses siguientes. Nos permite responder preguntas como:\n",
    "\n",
    "- ¿Qué tan bien retengo a los usuarios a lo largo del tiempo?\n",
    "- ¿Qué cohortes tienen mejor rendimiento?"
   ]
  },
  {
   "cell_type": "code",
   "execution_count": 8,
   "id": "1a9ebadc-aba1-4206-84ba-64e88ed1ac8c",
   "metadata": {},
   "outputs": [
    {
     "data": {
      "text/html": [
       "<div>\n",
       "<style scoped>\n",
       "    .dataframe tbody tr th:only-of-type {\n",
       "        vertical-align: middle;\n",
       "    }\n",
       "\n",
       "    .dataframe tbody tr th {\n",
       "        vertical-align: top;\n",
       "    }\n",
       "\n",
       "    .dataframe thead th {\n",
       "        text-align: right;\n",
       "    }\n",
       "</style>\n",
       "<table border=\"1\" class=\"dataframe\">\n",
       "  <thead>\n",
       "    <tr style=\"text-align: right;\">\n",
       "      <th>meses_desde_registro</th>\n",
       "      <th>-2</th>\n",
       "      <th>-1</th>\n",
       "      <th>0</th>\n",
       "      <th>1</th>\n",
       "      <th>2</th>\n",
       "      <th>3</th>\n",
       "      <th>4</th>\n",
       "      <th>5</th>\n",
       "    </tr>\n",
       "    <tr>\n",
       "      <th>cohorte</th>\n",
       "      <th></th>\n",
       "      <th></th>\n",
       "      <th></th>\n",
       "      <th></th>\n",
       "      <th></th>\n",
       "      <th></th>\n",
       "      <th></th>\n",
       "      <th></th>\n",
       "    </tr>\n",
       "  </thead>\n",
       "  <tbody>\n",
       "    <tr>\n",
       "      <th>2024-01</th>\n",
       "      <td>0</td>\n",
       "      <td>0</td>\n",
       "      <td>7</td>\n",
       "      <td>4</td>\n",
       "      <td>3</td>\n",
       "      <td>4</td>\n",
       "      <td>9</td>\n",
       "      <td>4</td>\n",
       "    </tr>\n",
       "    <tr>\n",
       "      <th>2024-02</th>\n",
       "      <td>0</td>\n",
       "      <td>6</td>\n",
       "      <td>5</td>\n",
       "      <td>7</td>\n",
       "      <td>6</td>\n",
       "      <td>8</td>\n",
       "      <td>1</td>\n",
       "      <td>0</td>\n",
       "    </tr>\n",
       "    <tr>\n",
       "      <th>2024-03</th>\n",
       "      <td>5</td>\n",
       "      <td>6</td>\n",
       "      <td>9</td>\n",
       "      <td>9</td>\n",
       "      <td>5</td>\n",
       "      <td>2</td>\n",
       "      <td>0</td>\n",
       "      <td>0</td>\n",
       "    </tr>\n",
       "  </tbody>\n",
       "</table>\n",
       "</div>"
      ],
      "text/plain": [
       "meses_desde_registro  -2  -1   0   1   2   3   4   5\n",
       "cohorte                                             \n",
       "2024-01                0   0   7   4   3   4   9   4\n",
       "2024-02                0   6   5   7   6   8   1   0\n",
       "2024-03                5   6   9   9   5   2   0   0"
      ]
     },
     "execution_count": 8,
     "metadata": {},
     "output_type": "execute_result"
    }
   ],
   "source": [
    "import pandas as pd\n",
    "import numpy as np\n",
    "from operator import attrgetter\n",
    "\n",
    "# Crear datos de ejemplo\n",
    "np.random.seed(42)\n",
    "df = pd.DataFrame({\n",
    "    'usuario_id': range(1, 101),\n",
    "    'fecha_registro': pd.to_datetime(np.random.choice(pd.date_range('2024-01-01', '2024-03-31'), size=100)),\n",
    "    'fecha_actividad': pd.to_datetime(np.random.choice(pd.date_range('2024-01-01', '2024-06-15'), size=100))\n",
    "})\n",
    "\n",
    "# Cohorte y mes de actividad\n",
    "df['cohorte'] = df['fecha_registro'].dt.to_period('M')\n",
    "df['mes_actividad'] = df['fecha_actividad'].dt.to_period('M')\n",
    "\n",
    "# Diferencia en meses\n",
    "df['meses_desde_registro'] = (df['mes_actividad'] - df['cohorte']).apply(attrgetter('n'))\n",
    "\n",
    "# Tabla de cohortes\n",
    "cohort_data = df.groupby(['cohorte', 'meses_desde_registro'])['usuario_id'].nunique().unstack(fill_value=0)\n",
    "\n",
    "cohort_data"
   ]
  },
  {
   "cell_type": "markdown",
   "id": "ade0baeb-04ae-444c-9bfe-24097360cb5c",
   "metadata": {},
   "source": [
    "### Evaluación de cambios en los valores absolutos por mes 🗓️\n",
    "Nos ayuda a ver cuántos usuarios únicos permanecen activos en cada mes desde su registro.\n",
    "\n",
    "### Evaluación de cambios en valores relativos por ciclo de vida 📝\n",
    "Calculamos la retención dividiendo los usuarios activos cada mes entre los que comenzaron (mes 0). Esto nos permite comparar cohortes entre sí, independientemente del tamaño inicial."
   ]
  },
  {
   "cell_type": "code",
   "execution_count": 9,
   "id": "68f5b6d1-a210-4c47-940f-1399b0948200",
   "metadata": {},
   "outputs": [
    {
     "data": {
      "text/html": [
       "<div>\n",
       "<style scoped>\n",
       "    .dataframe tbody tr th:only-of-type {\n",
       "        vertical-align: middle;\n",
       "    }\n",
       "\n",
       "    .dataframe tbody tr th {\n",
       "        vertical-align: top;\n",
       "    }\n",
       "\n",
       "    .dataframe thead th {\n",
       "        text-align: right;\n",
       "    }\n",
       "</style>\n",
       "<table border=\"1\" class=\"dataframe\">\n",
       "  <thead>\n",
       "    <tr style=\"text-align: right;\">\n",
       "      <th>meses_desde_registro</th>\n",
       "      <th>-2</th>\n",
       "      <th>-1</th>\n",
       "      <th>0</th>\n",
       "      <th>1</th>\n",
       "      <th>2</th>\n",
       "      <th>3</th>\n",
       "      <th>4</th>\n",
       "      <th>5</th>\n",
       "    </tr>\n",
       "    <tr>\n",
       "      <th>cohorte</th>\n",
       "      <th></th>\n",
       "      <th></th>\n",
       "      <th></th>\n",
       "      <th></th>\n",
       "      <th></th>\n",
       "      <th></th>\n",
       "      <th></th>\n",
       "      <th></th>\n",
       "    </tr>\n",
       "  </thead>\n",
       "  <tbody>\n",
       "    <tr>\n",
       "      <th>2024-01</th>\n",
       "      <td>NaN</td>\n",
       "      <td>NaN</td>\n",
       "      <td>inf</td>\n",
       "      <td>inf</td>\n",
       "      <td>inf</td>\n",
       "      <td>inf</td>\n",
       "      <td>inf</td>\n",
       "      <td>inf</td>\n",
       "    </tr>\n",
       "    <tr>\n",
       "      <th>2024-02</th>\n",
       "      <td>NaN</td>\n",
       "      <td>inf</td>\n",
       "      <td>inf</td>\n",
       "      <td>inf</td>\n",
       "      <td>inf</td>\n",
       "      <td>inf</td>\n",
       "      <td>inf</td>\n",
       "      <td>NaN</td>\n",
       "    </tr>\n",
       "    <tr>\n",
       "      <th>2024-03</th>\n",
       "      <td>1.0</td>\n",
       "      <td>1.2</td>\n",
       "      <td>1.8</td>\n",
       "      <td>1.8</td>\n",
       "      <td>1.0</td>\n",
       "      <td>0.4</td>\n",
       "      <td>0.0</td>\n",
       "      <td>0.0</td>\n",
       "    </tr>\n",
       "  </tbody>\n",
       "</table>\n",
       "</div>"
      ],
      "text/plain": [
       "meses_desde_registro   -2   -1    0    1    2    3    4    5\n",
       "cohorte                                                     \n",
       "2024-01               NaN  NaN  inf  inf  inf  inf  inf  inf\n",
       "2024-02               NaN  inf  inf  inf  inf  inf  inf  NaN\n",
       "2024-03               1.0  1.2  1.8  1.8  1.0  0.4  0.0  0.0"
      ]
     },
     "execution_count": 9,
     "metadata": {},
     "output_type": "execute_result"
    }
   ],
   "source": [
    "retencion_relativa = cohort_data.divide(cohort_data.iloc[:, 0], axis=0)\n",
    "\n",
    "retencion_relativa.round(2)"
   ]
  },
  {
   "cell_type": "markdown",
   "id": "adfda741-07fd-4b37-8342-c5add063ffa2",
   "metadata": {},
   "source": [
    "### Visualización del análisis de cohortes 📊\n",
    "Un heatmap es ideal para representar visualmente la retención a lo largo del tiempo."
   ]
  },
  {
   "cell_type": "code",
   "execution_count": 10,
   "id": "5dfe65a3-cc27-45ca-9d79-4707697e3bd3",
   "metadata": {},
   "outputs": [
    {
     "data": {
      "image/png": "[encoded data removed]",
      "text/plain": [
       "<Figure size 1000x600 with 2 Axes>"
      ]
     },
     "metadata": {},
     "output_type": "display_data"
    }
   ],
   "source": [
    "import seaborn as sns\n",
    "import matplotlib.pyplot as plt\n",
    "\n",
    "plt.figure(figsize=(10, 6))\n",
    "sns.heatmap(retencion_relativa, annot=True, fmt=\".0%\", cmap='Blues')\n",
    "plt.title('Retención mensual por cohorte')\n",
    "plt.xlabel('Meses desde el registro')\n",
    "plt.ylabel('Cohorte')\n",
    "plt.show()"
   ]
  },
  {
   "cell_type": "markdown",
   "id": "14a9b70c-7470-44d4-a9d1-655ff5fcb3d7",
   "metadata": {},
   "source": [
    "### Tasa de retención y de cancelación ⚖️\n",
    "\n",
    "- **Tasa de retención:** porcentaje de usuarios que siguen activos después de cierto tiempo.\n",
    "\n",
    "- **Tasa de cancelación:** 1 - tasa de retención."
   ]
  },
  {
   "cell_type": "code",
   "execution_count": 11,
   "id": "1095c2a1-34a6-4e85-9929-3515fa43d4c4",
   "metadata": {},
   "outputs": [
    {
     "name": "stdout",
     "output_type": "stream",
     "text": [
      "Retención: 65.00%, Cancelación: 35.00%\n"
     ]
    }
   ],
   "source": [
    "usuarios_inicio = 100\n",
    "usuarios_dia30 = 65\n",
    "\n",
    "retencion = usuarios_dia30 / usuarios_inicio\n",
    "cancelacion = 1 - retencion\n",
    "\n",
    "print(f'Retención: {retencion:.2%}, Cancelación: {cancelacion:.2%}')"
   ]
  },
  {
   "cell_type": "markdown",
   "id": "e24bca0a-3523-4e10-abd9-db638ceff0bf",
   "metadata": {},
   "source": [
    "### Cohortes comportamentales 📋\n",
    "Agrupar cohortes por comportamiento (no solo por fecha) permite comparar usuarios según cómo interactúan con el producto: cantidad de eventos, uso de funciones, etc."
   ]
  },
  {
   "cell_type": "code",
   "execution_count": 12,
   "id": "b6427b78-feb5-428d-8f80-01c767d8c1ac",
   "metadata": {},
   "outputs": [
    {
     "name": "stderr",
     "output_type": "stream",
     "text": [
      "/tmp/ipykernel_11875/905888270.py:10: FutureWarning: The default of observed=False is deprecated and will be changed to True in a future version of pandas. Pass observed=False to retain current behavior or observed=True to adopt the future default and silence this warning.\n",
      "  cohortes_comportamiento = df.groupby(['cohorte', 'comportamiento'])['usuario_id'].count().unstack(fill_value=0)\n"
     ]
    },
    {
     "data": {
      "text/html": [
       "<div>\n",
       "<style scoped>\n",
       "    .dataframe tbody tr th:only-of-type {\n",
       "        vertical-align: middle;\n",
       "    }\n",
       "\n",
       "    .dataframe tbody tr th {\n",
       "        vertical-align: top;\n",
       "    }\n",
       "\n",
       "    .dataframe thead th {\n",
       "        text-align: right;\n",
       "    }\n",
       "</style>\n",
       "<table border=\"1\" class=\"dataframe\">\n",
       "  <thead>\n",
       "    <tr style=\"text-align: right;\">\n",
       "      <th>comportamiento</th>\n",
       "      <th>bajo</th>\n",
       "      <th>medio</th>\n",
       "      <th>alto</th>\n",
       "    </tr>\n",
       "    <tr>\n",
       "      <th>cohorte</th>\n",
       "      <th></th>\n",
       "      <th></th>\n",
       "      <th></th>\n",
       "    </tr>\n",
       "  </thead>\n",
       "  <tbody>\n",
       "    <tr>\n",
       "      <th>2024-01</th>\n",
       "      <td>16</td>\n",
       "      <td>5</td>\n",
       "      <td>10</td>\n",
       "    </tr>\n",
       "    <tr>\n",
       "      <th>2024-02</th>\n",
       "      <td>14</td>\n",
       "      <td>9</td>\n",
       "      <td>10</td>\n",
       "    </tr>\n",
       "    <tr>\n",
       "      <th>2024-03</th>\n",
       "      <td>7</td>\n",
       "      <td>9</td>\n",
       "      <td>20</td>\n",
       "    </tr>\n",
       "  </tbody>\n",
       "</table>\n",
       "</div>"
      ],
      "text/plain": [
       "comportamiento  bajo  medio  alto\n",
       "cohorte                          \n",
       "2024-01           16      5    10\n",
       "2024-02           14      9    10\n",
       "2024-03            7      9    20"
      ]
     },
     "execution_count": 12,
     "metadata": {},
     "output_type": "execute_result"
    }
   ],
   "source": [
    "# Simular número de eventos realizados por usuario\n",
    "df['num_eventos'] = np.random.randint(1, 20, size=len(df))\n",
    "\n",
    "# Crear etiquetas de comportamiento\n",
    "df['comportamiento'] = pd.cut(df['num_eventos'],\n",
    "                              bins=[0, 5, 10, 20],\n",
    "                              labels=['bajo', 'medio', 'alto'])\n",
    "\n",
    "# Agrupar cohortes por comportamiento\n",
    "cohortes_comportamiento = df.groupby(['cohorte', 'comportamiento'])['usuario_id'].count().unstack(fill_value=0)\n",
    "\n",
    "cohortes_comportamiento"
   ]
  },
  {
   "cell_type": "markdown",
   "id": "f9426744-263b-4128-b8ce-1691a5541ae3",
   "metadata": {},
   "source": [
    "## 💻📖 Pongamos a prueba nuestro conocimiento\n",
    "Para el siguiente ejercicio seguimos las instrucciones del siguiente [link](https://colab.research.google.com/drive/15xXfDkHPmp5v7T-RGWXFcM0v2CopD9B9?usp=sharing)"
   ]
  },
  {
   "cell_type": "code",
   "execution_count": null,
   "id": "82f2705c-7990-4fcd-8c13-4e700b708464",
   "metadata": {},
   "outputs": [],
   "source": []
  }
 ],
 "metadata": {
  "kernelspec": {
   "display_name": "Python 3 (ipykernel)",
   "language": "python",
   "name": "python3"
  },
  "language_info": {
   "codemirror_mode": {
    "name": "ipython",
    "version": 3
   },
   "file_extension": ".py",
   "mimetype": "text/x-python",
   "name": "python",
   "nbconvert_exporter": "python",
   "pygments_lexer": "ipython3",
   "version": "3.12.7"
  }
 },
 "nbformat": 4,
 "nbformat_minor": 5
}