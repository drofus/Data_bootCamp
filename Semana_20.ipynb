{
 "cells": [
  {
   "cell_type": "markdown",
   "id": "3e76bb85-512d-4466-b9c9-a1e1bb622a77",
   "metadata": {},
   "source": [
    "# Semana 20: Automatización 🤖\n",
    "\n",
    "## Data pipelines y por qué utilizarlos 🏗️\n",
    "Explica qué es un **pipeline de datos:** una secuencia automatizada de pasos para recolectar, transformar, y almacenar datos. Los pipelines permiten ahorrar tiempo, reducir errores y mejorar la reproducibilidad del análisis.\n",
    "\n",
    "## Automatizar los Dashboards con pipelines de datos ⚙︎\n",
    "Describe cómo un pipeline puede alimentar automáticamente un dashboard. Por ejemplo, cada vez que se actualizan los datos brutos, el pipeline los limpia y los prepara para visualización, sin intervención manual.\n",
    "\n",
    "## Crear un script de pipeline 📝\n",
    "\n",
    "```python\n",
    "import pandas as pd\n",
    "import os\n",
    "from datetime import datetime\n",
    "\n",
    "# Simulemos un archivo CSV de entrada\n",
    "ventas = pd.DataFrame({\n",
    "    'fecha': pd.date_range(start='2023-01-01', periods=10, freq='D'),\n",
    "    'ventas': [100, 150, 200, 250, 300, 280, 320, 400, 390, 500]\n",
    "})\n",
    "ventas.to_csv(\"datos/ventas.csv\", index=False)\n",
    "\n",
    "# Pipeline: cargar, transformar y guardar\n",
    "\n",
    "def pipeline_ventas(ruta_entrada, ruta_salida):\n",
    "    df = pd.read_csv(ruta_entrada)\n",
    "    df['fecha'] = pd.to_datetime(df['fecha'])\n",
    "    df['dia'] = df['fecha'].dt.day_name()\n",
    "    df['ventas_acumuladas'] = df['ventas'].cumsum()\n",
    "    df.to_csv(ruta_salida, index=False)\n",
    "    print(f\"Archivo procesado guardado en {ruta_salida}\")\n",
    "\n",
    "# Ejecutar pipeline\n",
    "pipeline_ventas(\"datos/ventas.csv\", \"datos/ventas_procesadas.csv\")\n",
    "```"
   ]
  },
  {
   "cell_type": "markdown",
   "id": "d3b0cac3-2c8a-4158-ab69-07b23074d416",
   "metadata": {},
   "source": [
    "## Diseñar y desarrollar cuadros de mando con Dash 🎛️\n",
    "Dash es una librería de Python para crear aplicaciones web interactivas enfocadas en visualización de datos\n",
    "[Documentación](https://dash.plotly.com/)"
   ]
  },
  {
   "cell_type": "markdown",
   "id": "9d15db5f-5286-4209-a61f-cf0dd32a8508",
   "metadata": {},
   "source": [
    "### Dashboard 📉\n",
    "Un dashboard es una interfaz visual que resume información clave con visualizaciones interactivas para facilitar la toma de decisiones.\n",
    "\n",
    "```python\n",
    "import pandas as pd\n",
    "import dash\n",
    "from dash import html, dcc\n",
    "import plotly.express as px\n",
    "\n",
    "ventas_proc = pd.read_csv(\"ventas_procesadas.csv\")\n",
    "\n",
    "fig = px.line(ventas_proc, x=\"fecha\", y=\"ventas_acumuladas\", title=\"Ventas Acumuladas\")\n",
    "\n",
    "app = dash.Dash(__name__)\n",
    "\n",
    "app.layout = html.Div([\n",
    "    html.H1(\"Dashboard de Ventas\"),\n",
    "    dcc.Graph(id='grafico_ventas', figure=fig),\n",
    "\n",
    "    html.Label(\"Selecciona columna\"),\n",
    "    dcc.Dropdown(\n",
    "        options=[{\"label\": col, \"value\": col} for col in ventas_proc.columns],\n",
    "        value=\"ventas\",\n",
    "        id=\"columna_selector\"\n",
    "    ),\n",
    "\n",
    "    html.Div(id=\"salida_selector\")\n",
    "])\n",
    "\n",
    "@app.callback(\n",
    "    dash.Output(\"salida_selector\", \"children\"),\n",
    "    dash.Input(\"columna_selector\", \"value\")\n",
    ")\n",
    "def mostrar_info_columna(col):\n",
    "    media = ventas_proc[col].mean()\n",
    "    return f\"La media de {col} es {media:.2f}\"\n",
    "\n",
    "if __name__ == '__main__':\n",
    "    app.run(debug=True)\n",
    "```"
   ]
  },
  {
   "cell_type": "code",
   "execution_count": null,
   "id": "6582732a-d16b-43d9-9c54-b343c14818ee",
   "metadata": {},
   "outputs": [],
   "source": []
  }
 ],
 "metadata": {
  "kernelspec": {
   "display_name": "Python 3 (ipykernel)",
   "language": "python",
   "name": "python3"
  },
  "language_info": {
   "codemirror_mode": {
    "name": "ipython",
    "version": 3
   },
   "file_extension": ".py",
   "mimetype": "text/x-python",
   "name": "python",
   "nbconvert_exporter": "python",
   "pygments_lexer": "ipython3",
   "version": "3.12.7"
  }
 },
 "nbformat": 4,
 "nbformat_minor": 5
}
