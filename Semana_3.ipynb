{
 "cells": [
  {
   "cell_type": "markdown",
   "id": "09ac2d76-eec9-4064-ab04-5b562fc2b81f",
   "metadata": {},
   "source": [
    "# Semana 3: Python Básico"
   ]
  },
  {
   "cell_type": "markdown",
   "id": "53b58b1b-4998-45b0-ae6b-18bf21796d0e",
   "metadata": {},
   "source": [
    "## 🎟️ Condicionales en Python\n",
    "Un condicional es una sentencia que nos permite verificar si se cumple una condición, y establecer dos posibles ejecuciones de acuerdo a si se cumple o no la condición. En un diagrama de flujo, se vería como sigue:\n",
    "\n",
    "![Condicional](https://i.imgur.com/O6cZrw0.png)"
   ]
  },
  {
   "cell_type": "markdown",
   "id": "d7d41da4-4384-47a5-aa0e-4b282c143698",
   "metadata": {},
   "source": [
    "### 🔹 Sentencia `if`\n",
    "Permite dividir el flujo de un programa en diferentes caminos u opciones. El bloque de código dentro del condicional `if` se ejecuta siempre que la condición sea `True`."
   ]
  },
  {
   "cell_type": "code",
   "execution_count": 1,
   "id": "39c2cacb-d5f9-403c-980e-4c7f5bac8989",
   "metadata": {},
   "outputs": [
    {
     "name": "stdout",
     "output_type": "stream",
     "text": [
      "Esto siempre se va a imprimir\n",
      "Ya estamos fuera del if\n",
      "Ya estamos fuera del if\n"
     ]
    }
   ],
   "source": [
    "if True:\n",
    "    print(\"Esto siempre se va a imprimir\")\n",
    "print(\"Ya estamos fuera del if\")\n",
    "\n",
    "if False:\n",
    "    print('Esto nunca se va a imprimir')\n",
    "print(\"Ya estamos fuera del if\")"
   ]
  },
  {
   "cell_type": "markdown",
   "id": "3276517f-5715-4d46-9128-013a57555331",
   "metadata": {},
   "source": [
    "📌 También se usan operadores extras para tener sentencias más especificas en los condicionales\n",
    "\n",
    "\n",
    "\n",
    "| Operador          | Descripción |\n",
    "| :---------------- | :------: | \n",
    "| ```==```          |Igual   | \n",
    "| ```<```           |Menor que   | \n",
    "| ```>```           |Mayor que| \n",
    "| ```<=```          |Menor o igual que    |\n",
    "| ```>=```          |Mayor o igual que   |\n",
    "| ```!=```          |Diferente|"
   ]
  },
  {
   "cell_type": "code",
   "execution_count": 2,
   "id": "9010451c-1176-48f1-948f-f8442db7eb8e",
   "metadata": {},
   "outputs": [
    {
     "name": "stdout",
     "output_type": "stream",
     "text": [
      "a es menor que b\n"
     ]
    }
   ],
   "source": [
    "a=35\n",
    "b=100\n",
    "\n",
    "if a<b:\n",
    "  print(\"a es menor que b\")\n",
    "\n",
    "if a>b:\n",
    "  print(\"a es mayor que b\")"
   ]
  },
  {
   "cell_type": "markdown",
   "id": "c0013983-8328-4121-9ee2-13d3e44467d5",
   "metadata": {},
   "source": [
    "### 🔹 Sentencia `else`\n",
    "La declaración `else` es una estructura de control de flujo que se utiliza junto con la declaración `if` o la declaración `elif`. Si todas las condiciones en las declaraciones `if` y `elif` son falsas, se ejecuta el bloque de código dentro de la declaración `else`. La declaración else es opcional y sólo se ejecuta si no se cumple ninguna de las condiciones anteriores."
   ]
  },
  {
   "cell_type": "code",
   "execution_count": 3,
   "id": "fe0b4c99-7df3-4d5a-aedd-9722b587717e",
   "metadata": {},
   "outputs": [
    {
     "name": "stdout",
     "output_type": "stream",
     "text": [
      "No puedes entrar\n"
     ]
    }
   ],
   "source": [
    "ticket = False\n",
    "\n",
    "if ticket == True:\n",
    "    print(\"Puedes entrar\")\n",
    "else:\n",
    "    print(\"No puedes entrar\")"
   ]
  },
  {
   "cell_type": "markdown",
   "id": "1acb5de3-2a1a-45f2-b9b3-f2a4eefe492b",
   "metadata": {},
   "source": [
    "### 🔹 Sentencia `elif`\n",
    "La declaración `elif` es una extensión de la declaración `if` que permite verificar múltiples condiciones en una sola estructura de control de flujo. Si la condición en la declaración `if` es falsa, se verifica la siguiente condición en la declaración `elif`. Si se cumple la condición, el bloque de código dentro del `elif` se ejecuta. Si la condición es falsa, se omite el bloque de código y se verifica la siguiente condición en la siguiente declaración `elif` o en la declaración `else`."
   ]
  },
  {
   "cell_type": "code",
   "execution_count": 4,
   "id": "72dabdb8-fb7a-4d12-a5b6-048836a7b301",
   "metadata": {},
   "outputs": [
    {
     "name": "stdout",
     "output_type": "stream",
     "text": [
      "Usted es mayor de edad\n"
     ]
    }
   ],
   "source": [
    "edad = 30\n",
    "\n",
    "if edad >= 18:\n",
    "    print(\"Usted es mayor de edad\")\n",
    "elif 0<= edad < 18 :\n",
    "    print(\"Usted es menor de edad\")\n",
    "else:\n",
    "    print(\"La edad ingresada es erronea\")"
   ]
  },
  {
   "cell_type": "markdown",
   "id": "0b6db6ab-92fa-4ecf-8acf-855eb8ac92ee",
   "metadata": {},
   "source": [
    "Diferencias entre `if` y `elif`."
   ]
  },
  {
   "cell_type": "code",
   "execution_count": 5,
   "id": "a71a9bb4-15dd-41bb-b953-4fbe1a8a9582",
   "metadata": {},
   "outputs": [
    {
     "name": "stdout",
     "output_type": "stream",
     "text": [
      "El número es mayor que 2\n",
      "El número es mayor que 3\n"
     ]
    }
   ],
   "source": [
    "a = 5\n",
    "\n",
    "if a >= 2:\n",
    "    print(\"El número es mayor que 2\")\n",
    "if a >= 3:\n",
    "    print(\"El número es mayor que 3\")"
   ]
  },
  {
   "cell_type": "code",
   "execution_count": 6,
   "id": "feb5839b-1b6d-4279-bef2-eca71eb65498",
   "metadata": {},
   "outputs": [
    {
     "name": "stdout",
     "output_type": "stream",
     "text": [
      "El número es mayor que 2\n"
     ]
    }
   ],
   "source": [
    "a = 5\n",
    "\n",
    "if a >= 2:\n",
    "    print(\"El número es mayor que 2\")\n",
    "elif a >= 3:\n",
    "    print(\"El número es mayor que 3\")"
   ]
  },
  {
   "cell_type": "markdown",
   "id": "89d631bb-3122-4ce5-8c35-6e1a137d2d3e",
   "metadata": {},
   "source": [
    "Si no ponemos el `elif`, se ejecutan ambos condicionales. Con el `elif`, solo entra a la segunda condición si no se cumple la primera. En este ejemplo es claro que $a \\geq 2$ y $a \\geq 3$, pero solo se imprime que el número es mayor o igual que dos."
   ]
  },
  {
   "cell_type": "markdown",
   "id": "8d3ac7c0-d732-46ec-9291-5dd343c78ad1",
   "metadata": {},
   "source": [
    "### 💻📖 Pongamos a prueba nuestro conocimiento\n",
    "\n",
    "Para que todo no se quedé con solo teoria, tratemos de resolver estos 2 ejercicios para practicar (usaremos este link: https://www.online-python.com/)\n",
    "\n",
    "1. Una tienda tiene una lista de clientes VIP. Escribe un programa analicé el nombre de un cliente y verifique si está en la lista. Si es VIP, imprime \"Acceso a descuentos especiales\", de lo contrario, imprime \"Cliente regular\".\n",
    "2. Dada una lista con los productos en stock de una tienda, el programa debe pedir al usuario el nombre de un producto y verificar si está disponible."
   ]
  },
  {
   "cell_type": "markdown",
   "id": "114ea1de-4827-4dc4-b166-a7ebee12c92c",
   "metadata": {},
   "source": [
    "## 🔁 Bucles o ciclos"
   ]
  },
  {
   "cell_type": "markdown",
   "id": "322847c3-09a9-4092-9c19-90c28c91101a",
   "metadata": {},
   "source": [
    "### 🔹 Bucle `for`\n",
    "El ciclo `for` es una esctructura de ciclo usada en los casos donde conozco los elementos o la cantidad de elementos a iterar."
   ]
  },
  {
   "cell_type": "code",
   "execution_count": 7,
   "id": "096c18c3-fb50-4fc3-bfb6-ca14bf77d40e",
   "metadata": {},
   "outputs": [
    {
     "name": "stdout",
     "output_type": "stream",
     "text": [
      "0\n",
      "1\n",
      "2\n",
      "3\n",
      "4\n",
      "5\n",
      "6\n",
      "7\n",
      "8\n",
      "9\n"
     ]
    }
   ],
   "source": [
    "# i es la variable de control del bucle\n",
    "for i in range(10):\n",
    "    print(i)"
   ]
  },
  {
   "cell_type": "code",
   "execution_count": 8,
   "id": "cf57da2e-fbf0-4d06-9633-81c1dab30a61",
   "metadata": {},
   "outputs": [
    {
     "name": "stdout",
     "output_type": "stream",
     "text": [
      "2\n",
      "4\n",
      "6\n",
      "8\n",
      "10\n",
      "12\n",
      "14\n",
      "16\n",
      "18\n"
     ]
    }
   ],
   "source": [
    "# La variación será desde a hasta b-1, con un paso igual a c.\n",
    "for i in range(2,20,2):       # a=2, b=20, c=2\n",
    "    print(i)"
   ]
  },
  {
   "cell_type": "markdown",
   "id": "21ee4c10-67e2-48a6-b225-8af64e752dd4",
   "metadata": {},
   "source": [
    "También una de las funciones del bucle `for` es que puede usar listas."
   ]
  },
  {
   "cell_type": "code",
   "execution_count": 14,
   "id": "64f6ff19-27a6-42a3-bda4-801addf4e203",
   "metadata": {},
   "outputs": [
    {
     "name": "stdout",
     "output_type": "stream",
     "text": [
      "Santiago\n",
      "Hernando\n",
      "Jerry\n"
     ]
    }
   ],
   "source": [
    "lista = [\"Santiago\", \"Hernando\", \"Jerry\"]\n",
    "\n",
    "for i in lista:\n",
    "    print(i)"
   ]
  },
  {
   "cell_type": "markdown",
   "id": "d590382b-afb6-4c47-8c35-a19d4b45c2db",
   "metadata": {},
   "source": [
    "### 🔹 Bucle `while`\n",
    "El ciclo `while` se basa en repetir un bloque de códigos a partir de una condición establecida. El bloque `while` se ejecutará siempre y cuando el resultado de la condición sea True.\n",
    "```python\n",
    "while True: #Bucle infinito\n",
    "    print(\"Este mensaje no va a parar nunca\")\n",
    "```"
   ]
  },
  {
   "cell_type": "code",
   "execution_count": 9,
   "id": "9ed59b02-37d9-4550-8460-ee4d8badb1c8",
   "metadata": {},
   "outputs": [
    {
     "name": "stdout",
     "output_type": "stream",
     "text": [
      "Iteración 0\n",
      "Iteración 1\n",
      "Iteración 2\n",
      "Iteración 3\n",
      "Iteración 4\n",
      "Iteración 5\n"
     ]
    }
   ],
   "source": [
    "x = 5\n",
    "y = 0\n",
    "\n",
    "while y <= x:\n",
    "    print(\"Iteración\", y)\n",
    "    y = y + 1"
   ]
  },
  {
   "cell_type": "code",
   "execution_count": 10,
   "id": "653a001c-e355-439f-9391-d1bfa1cc9fcb",
   "metadata": {},
   "outputs": [
    {
     "name": "stdout",
     "output_type": "stream",
     "text": [
      "Iteración 0\n",
      "Iteración 1\n",
      "Iteración 2\n",
      "Iteración 3\n",
      "Iteración 4\n",
      "Iteración 5\n",
      "FIN DEL BUCLE\n"
     ]
    }
   ],
   "source": [
    "x = 5\n",
    "y = 0\n",
    "\n",
    "while y <= x:\n",
    "    print(\"Iteración\", y)\n",
    "    y = y + 1\n",
    "else:\n",
    "    print(\"FIN DEL BUCLE\")"
   ]
  },
  {
   "cell_type": "markdown",
   "id": "f0029302-942d-48ce-8f68-e2caf34e86c3",
   "metadata": {},
   "source": [
    "### 💻📖 Pongamos a prueba nuestro conocimiento\n",
    "\n",
    "Para que todo no se quedé con solo teoria, tratemos de resolver estos 2 ejercicios para practicar (usaremos este link: https://www.online-python.com/)\n",
    "\n",
    "1. Dada una lista con temperaturas de diferentes ciudades, el programa debe clasificarlas en \"Frío\", \"Templado\" o \"Caluroso\", según los siguientes criterios:\n",
    "    - Menos de 15°C → \"Frío\"\n",
    "    - Entre 15°C y 25°C → \"Templado\"\n",
    "    - Más de 25°C → \"Caluroso\"\n",
    "2. Dada una lista con los gastos de cada semana del mes, el programa debe calcular e imprimir el total gastado en el mes."
   ]
  },
  {
   "cell_type": "markdown",
   "id": "711c6e4a-fef2-4ee7-855b-8e712140bbdf",
   "metadata": {},
   "source": [
    "## 💡 Operadores lógicos\n",
    "Estos operadores son útiles para el contro de flujo de los buclos y condicionales."
   ]
  },
  {
   "cell_type": "markdown",
   "id": "a98a242a-6ed7-466e-a4a8-732c9d001ffb",
   "metadata": {},
   "source": [
    "### 🔹 Operadores `and`, `or` y `not`\n",
    "Esto son los operadores logicos para los condicionales"
   ]
  },
  {
   "cell_type": "code",
   "execution_count": 15,
   "id": "8c975649-c50a-45ad-84bb-b7c16ba245d2",
   "metadata": {},
   "outputs": [
    {
     "name": "stdout",
     "output_type": "stream",
     "text": [
      "Acceso denegado\n"
     ]
    }
   ],
   "source": [
    "usuario = \"admin\"\n",
    "clave = \"1234\"\n",
    "if usuario == \"admin\" and clave == \"124\":\n",
    "    print(\"Acceso concedido\")\n",
    "else:\n",
    "    print(\"Acceso denegado\")"
   ]
  },
  {
   "cell_type": "code",
   "execution_count": 16,
   "id": "99e30098-97db-4092-aa37-8f85ef1e64ee",
   "metadata": {},
   "outputs": [
    {
     "name": "stdout",
     "output_type": "stream",
     "text": [
      "Elegiste un camino\n"
     ]
    }
   ],
   "source": [
    "Camino = \"Derecha\"\n",
    "\n",
    "if Camino == \"Derecha\" or Camino == \"Izquierda\":\n",
    "    print(\"Elegiste un camino\")\n",
    "else:\n",
    "    print(\"No elegiste un camino\")"
   ]
  },
  {
   "cell_type": "markdown",
   "id": "af699641-02c7-40e0-bec3-5989498580b1",
   "metadata": {},
   "source": [
    "### 🔹 Operadores `contiue`, `break` y `pass`"
   ]
  },
  {
   "cell_type": "code",
   "execution_count": 17,
   "id": "943675a9-f6dc-4d9e-8f56-abd1330c167c",
   "metadata": {},
   "outputs": [
    {
     "name": "stdout",
     "output_type": "stream",
     "text": [
      "1\n",
      "2\n",
      "3\n",
      "4\n",
      "5\n",
      "6\n",
      "7\n",
      "8\n",
      "9\n",
      "10\n"
     ]
    }
   ],
   "source": [
    "indice = 0\n",
    "while True:\n",
    "    if indice == 10:\n",
    "        break\n",
    "    indice += 1\n",
    "    print(indice)"
   ]
  },
  {
   "cell_type": "code",
   "execution_count": 18,
   "id": "2a9aaa63-b1aa-4377-b5c2-b6f746e9b302",
   "metadata": {},
   "outputs": [
    {
     "name": "stdout",
     "output_type": "stream",
     "text": [
      "0\n",
      "1\n",
      "2\n",
      "3\n",
      "4\n",
      "la iteración 5 se salto\n",
      "6\n",
      "7\n",
      "8\n",
      "9\n",
      "10\n",
      "la iteración 11 se salto\n"
     ]
    }
   ],
   "source": [
    "for i in range(0,12):\n",
    "    if i==5 or i>10:\n",
    "        print(f\"la iteración {i} se salto\")\n",
    "        continue\n",
    "    print(i)"
   ]
  },
  {
   "cell_type": "code",
   "execution_count": 19,
   "id": "26e1a2db-48bb-4144-8e3d-86565ff06c6a",
   "metadata": {},
   "outputs": [
    {
     "name": "stdout",
     "output_type": "stream",
     "text": [
      "Hola\n"
     ]
    }
   ],
   "source": [
    "if i > 10:\n",
    "    print(\"Hola\")\n",
    "else:\n",
    "    pass"
   ]
  },
  {
   "cell_type": "markdown",
   "id": "c7aaac0e-11d2-4699-8b6a-2cc4b646fe73",
   "metadata": {},
   "source": [
    "### 💻📖 Pongamos a prueba nuestro conocimiento\n",
    "\n",
    "Para que todo no se quedé con solo teoria, tratemos de resolver estos 2 ejercicios para practicar (usaremos este link: https://www.online-python.com/)\n",
    "\n",
    "1. Elabore un programa que lea un número total de segundos ingresados por el usuario y dé la duración del intervalo en días, horas, minutos y segundos en la forma DD:HH:MM:SS. Las horas, los minutos y los segundos deben estar formateados de manera que ocupen exactamente dos dígitos\n",
    "2. Imagina que acabas de abrir una nueva cuenta de ahorros que gana un cuatro por ciento de interés al año. Los intereses que ganas se pagan al final del año y se añaden al saldo de la cuenta de ahorros. Escribe un programa que comience leyendo la cantidad de dinero depositada en la cuenta por un usuario. Luego, debe calcular y mostrar la cantidad en la cuenta de ahorros después de $1$ y $2$ años."
   ]
  },
  {
   "cell_type": "code",
   "execution_count": null,
   "id": "845a8b82-9c97-4e73-bbea-7f9f2f438fd7",
   "metadata": {},
   "outputs": [],
   "source": []
  }
 ],
 "metadata": {
  "kernelspec": {
   "display_name": "Python 3 (ipykernel)",
   "language": "python",
   "name": "python3"
  },
  "language_info": {
   "codemirror_mode": {
    "name": "ipython",
    "version": 3
   },
   "file_extension": ".py",
   "mimetype": "text/x-python",
   "name": "python",
   "nbconvert_exporter": "python",
   "pygments_lexer": "ipython3",
   "version": "3.11.5"
  }
 },
 "nbformat": 4,
 "nbformat_minor": 5
}
